{
 "cells": [
  {
   "attachments": {},
   "cell_type": "markdown",
   "id": "liberal-account",
   "metadata": {},
   "source": [
    "#### 1. To what does a relative path refer?\n",
    "\n",
    "> Ans- Relative paths are relative to the current working directory.\n",
    "\n",
    "<b>--------------------------------------------------------------------------------------------------------------------------------------------"
   ]
  },
  {
   "attachments": {},
   "cell_type": "markdown",
   "id": "sharing-council",
   "metadata": {},
   "source": [
    "#### 2. What does an absolute path start with your operating system?\n",
    "\n",
    "> Ans- Absolute paths start with the root folder, such as / or C:\\. An absolute path always contains the root elements and the complete list of directories to locate the specific file or folder. All the information required to locate the file or folder is available in the absolute path.\n",
    "\n",
    "<b>--------------------------------------------------------------------------------------------------------------------------------------------"
   ]
  },
  {
   "attachments": {},
   "cell_type": "markdown",
   "id": "acute-talent",
   "metadata": {},
   "source": [
    "#### 3. What do the functions os.getcwd() and os.chdir() do?\n",
    "\n",
    "> Ans- The os.getcwd() function returns the current working directory. The os.chdir() function changes the current working directory.\n",
    "\n",
    "<b>--------------------------------------------------------------------------------------------------------------------------------------------"
   ]
  },
  {
   "attachments": {},
   "cell_type": "markdown",
   "id": "outdoor-setup",
   "metadata": {},
   "source": [
    "#### 4. What are the . and .. folders?\n",
    "\n",
    "> Ans- The . folder is the current folder, and .. is the parent folder.\n",
    "\n",
    "<b>--------------------------------------------------------------------------------------------------------------------------------------------"
   ]
  },
  {
   "attachments": {},
   "cell_type": "markdown",
   "id": "caring-viewer",
   "metadata": {},
   "source": [
    "#### 5. In C:\\bacon\\eggs\\spam.txt, which part is the dir name, and which part is the base name?\n",
    "\n",
    "> Ans- C:\\bacon\\eggs is the dir name, while spam.txt is the base name.\n",
    "\n",
    "<b>--------------------------------------------------------------------------------------------------------------------------------------------"
   ]
  },
  {
   "attachments": {},
   "cell_type": "markdown",
   "id": "complimentary-cabinet",
   "metadata": {},
   "source": [
    "#### 6. What are the three “mode” arguments that can be passed to the open() function?\n",
    "\n",
    "> Ans- The string 'r' for read mode, 'w' for write mode, and 'a' for append mode\n",
    "\n",
    "<b>--------------------------------------------------------------------------------------------------------------------------------------------"
   ]
  },
  {
   "attachments": {},
   "cell_type": "markdown",
   "id": "special-graduation",
   "metadata": {},
   "source": [
    "#### 7. What happens if an existing file is opened in write mode?\n",
    "\n",
    "> Ans- An existing file opened in write mode is erased and completely overwritten.\n",
    "\n",
    "<b>--------------------------------------------------------------------------------------------------------------------------------------------"
   ]
  },
  {
   "attachments": {},
   "cell_type": "markdown",
   "id": "conscious-adult",
   "metadata": {},
   "source": [
    "#### 8. How do you tell the difference between read() and readlines()?\n",
    "\n",
    "> Ans- The read() method returns the file's entire contents as a single string value. The readlines() method returns a list of strings, where each string is a line from the file's contents.\n",
    "\n",
    "<b>--------------------------------------------------------------------------------------------------------------------------------------------"
   ]
  },
  {
   "attachments": {},
   "cell_type": "markdown",
   "id": "dynamic-madison",
   "metadata": {},
   "source": [
    "#### 9. What data structure does a shelf value resemble?\n",
    "\n",
    "> Ans- A shelf value resembles a dictionary value; it has keys and values, along with keys() and values() methods that work similarly to the dictionary methods of the same names.\n",
    "\n",
    "<b>--------------------------------------------------------------------------------------------------------------------------------------------"
   ]
  }
 ],
 "metadata": {
  "kernelspec": {
   "display_name": "Python 3",
   "language": "python",
   "name": "python3"
  },
  "language_info": {
   "codemirror_mode": {
    "name": "ipython",
    "version": 3
   },
   "file_extension": ".py",
   "mimetype": "text/x-python",
   "name": "python",
   "nbconvert_exporter": "python",
   "pygments_lexer": "ipython3",
   "version": "3.11.2"
  },
  "toc": {
   "base_numbering": 1,
   "nav_menu": {},
   "number_sections": true,
   "sideBar": true,
   "skip_h1_title": false,
   "title_cell": "Table of Contents",
   "title_sidebar": "Contents",
   "toc_cell": false,
   "toc_position": {},
   "toc_section_display": true,
   "toc_window_display": false
  }
 },
 "nbformat": 4,
 "nbformat_minor": 5
}
