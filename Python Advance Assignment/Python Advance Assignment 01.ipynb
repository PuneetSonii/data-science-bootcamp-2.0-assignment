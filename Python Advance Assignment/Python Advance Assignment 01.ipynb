{
 "cells": [
  {
   "attachments": {},
   "cell_type": "markdown",
   "id": "f539b01e",
   "metadata": {},
   "source": [
    "# Python Advance Assignment 01"
   ]
  },
  {
   "attachments": {},
   "cell_type": "markdown",
   "id": "942401c5",
   "metadata": {},
   "source": [
    "#### 1. What is the purpose of Python's OOP?\n",
    ">Ans: Object-oriented programming is a programming paradigm that provides a means of structuring programs so that properties and behaviors are bundled into individual objects\n",
    ">- In Python, object-oriented Programming (OOPs) uses objects and classes in programming. \n",
    ">- It aims to implement real-world entities like inheritance, polymorphisms, encapsulation, etc. in the programming.\n",
    ">- The main concept of OOPs is to bind the data and the functions that work on that together as a single unit so that no other part of the code can access this data. \n",
    ">- It comes up with the following advantages:\n",
    ">- It helps to divide our over all program into different small segments and thus making it solving easy with the use of objects\n",
    ">- Helps in easy maintenance and modification of existing program\n",
    ">- Multiple instances of an object can be made."
   ]
  },
  {
   "attachments": {},
   "cell_type": "markdown",
   "id": "c6ef6ab8",
   "metadata": {},
   "source": [
    "<b>--------------------------------------------------------------------------------------------------------------------------------------------------------------"
   ]
  },
  {
   "attachments": {},
   "cell_type": "markdown",
   "id": "7cfcf3e9",
   "metadata": {},
   "source": [
    "#### 2. Where does an inheritance search look for an attribute?\n",
    ">Ans: Python searches for an attribute in an upward tree of attributes. it first searches for the attribute in its instance and then looks in the class it is generated from, to all super classes listed in its class header"
   ]
  },
  {
   "attachments": {},
   "cell_type": "markdown",
   "id": "a64f497c",
   "metadata": {},
   "source": [
    "<b>--------------------------------------------------------------------------------------------------------------------------------------------------------------"
   ]
  },
  {
   "attachments": {},
   "cell_type": "markdown",
   "id": "096d7b0b",
   "metadata": {},
   "source": [
    "#### 3. How do you distinguish between a class object and an instance object?\n",
    ">Ans: The differences between a class object and an instance object are:\n",
    ">1. Class is a template for creating objects whereas object is an instance of class\n",
    ">2. Seperate memory is allocated for each object whenever an object is created. but for a class this doesnot happens.\n",
    ">3. A Class is created once. Many objects are created using a class.\n",
    ">4. As Classes have no allocated memory. they can't be manipulated. but objects can be manipulated."
   ]
  },
  {
   "attachments": {},
   "cell_type": "markdown",
   "id": "736dd496",
   "metadata": {},
   "source": [
    "<b>--------------------------------------------------------------------------------------------------------------------------------------------------------------"
   ]
  },
  {
   "attachments": {},
   "cell_type": "markdown",
   "id": "fd8cc6bc",
   "metadata": {},
   "source": [
    "#### 4. What makes the first argument in a class’s method function special?\n",
    ">Ans: Python Classes usually have three types of methods which are:\n",
    ">- Instance Methods (object level methods)\n",
    ">- Class Methods (class level methods)\n",
    ">- Static Methods (general utility methods)\n",
    ">- `self` is the first argument for instance methods. which refers to the object itself\n",
    ">- `cls` is the first argument for class methods which refers to the class itself"
   ]
  },
  {
   "attachments": {},
   "cell_type": "markdown",
   "id": "5f9a4d85",
   "metadata": {},
   "source": [
    "<b>--------------------------------------------------------------------------------------------------------------------------------------------------------------"
   ]
  },
  {
   "attachments": {},
   "cell_type": "markdown",
   "id": "94de0426",
   "metadata": {},
   "source": [
    "#### 5. What is the purpose of the __init__ method?\n",
    ">Ans:`__init__` is a reseved method in python classes. It serves the role of a **constructor** in object oriented terminology. This method is called when an object is created from a class and it allows the class to initialize the attributes of the class"
   ]
  },
  {
   "attachments": {},
   "cell_type": "markdown",
   "id": "3e47943f",
   "metadata": {},
   "source": [
    "#### 6. What is the process for creating a class instance?\n",
    ">Ans: To create a class instance, we need to call the class by its name and pass the arguments to the class, which its **`init`** method accepts.\n",
    ">Example: **`my_name = my_class(\"Mano\",\"vishnu\")`** Here `my_name` is an instance of class `my_class` with attributes \"Mano\" and \"Vishnu\"."
   ]
  },
  {
   "attachments": {},
   "cell_type": "markdown",
   "id": "df2ec8df",
   "metadata": {},
   "source": [
    "<b>--------------------------------------------------------------------------------------------------------------------------------------------------------------"
   ]
  },
  {
   "attachments": {},
   "cell_type": "markdown",
   "id": "8ddf33a9",
   "metadata": {},
   "source": [
    "#### 7. What is the process for creating a class?\n",
    ">Ans: **`class`** keyword is used to created a class in python. The syntax to create a class in python is **`class <classname>:`**.Example: **`class Car:`**  ➞  this creates a class called Car"
   ]
  },
  {
   "attachments": {},
   "cell_type": "markdown",
   "id": "166aaacf",
   "metadata": {},
   "source": [
    "<b>--------------------------------------------------------------------------------------------------------------------------------------------------------------"
   ]
  },
  {
   "attachments": {},
   "cell_type": "markdown",
   "id": "b58c55d6",
   "metadata": {},
   "source": [
    "#### 8. How would you define the superclasses of a class?\n",
    ">Ans Superclass/Parent class is given as a arugment to the child class. \n",
    "Example: `class Employee(Person):` Here child class `Employee` inherits attributes and methofs from Superclass/Parent `Person`"
   ]
  },
  {
   "attachments": {},
   "cell_type": "markdown",
   "id": "499c5959",
   "metadata": {},
   "source": [
    "<b>------------------------------------------------------------------------------------------------------------------------------------------------------------------------------------------------------------------------------------------------------------------------------------------------------------------------------------------------------------------------------------"
   ]
  }
 ],
 "metadata": {
  "kernelspec": {
   "display_name": "Python 3",
   "language": "python",
   "name": "python3"
  },
  "language_info": {
   "codemirror_mode": {
    "name": "ipython",
    "version": 3
   },
   "file_extension": ".py",
   "mimetype": "text/x-python",
   "name": "python",
   "nbconvert_exporter": "python",
   "pygments_lexer": "ipython3",
   "version": "3.11.2"
  }
 },
 "nbformat": 4,
 "nbformat_minor": 5
}
