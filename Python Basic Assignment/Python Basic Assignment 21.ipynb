{
 "cells": [
  {
   "cell_type": "markdown",
   "metadata": {
    "id": "X7D5mbcXHi5l"
   },
   "source": [
    "#### 1. Add the current date to the text file today.txt as a string.\n",
    "> Ans-"
   ]
  },
  {
   "cell_type": "code",
   "execution_count": 1,
   "metadata": {
    "colab": {
     "base_uri": "https://localhost:8080/",
     "height": 35
    },
    "executionInfo": {
     "elapsed": 399,
     "status": "ok",
     "timestamp": 1627041464886,
     "user": {
      "displayName": "Yuno Clover",
      "photoUrl": "",
      "userId": "14793961318254159012"
     },
     "user_tz": -330
    },
    "id": "U166OAE1HbK8",
    "outputId": "13412dea-c990-4619-934e-624109f9f81a"
   },
   "outputs": [
    {
     "data": {
      "text/plain": [
       "'2023-03-21'"
      ]
     },
     "execution_count": 1,
     "metadata": {},
     "output_type": "execute_result"
    }
   ],
   "source": [
    "import datetime\n",
    "from datetime import date\n",
    "now = date.today()\n",
    "cur_date = now.isoformat()\n",
    "cur_date"
   ]
  },
  {
   "cell_type": "code",
   "execution_count": 2,
   "metadata": {
    "executionInfo": {
     "elapsed": 400,
     "status": "ok",
     "timestamp": 1627041468934,
     "user": {
      "displayName": "Yuno Clover",
      "photoUrl": "",
      "userId": "14793961318254159012"
     },
     "user_tz": -330
    },
    "id": "rnhAo-QIHouq"
   },
   "outputs": [],
   "source": [
    "with open('today.txt','w') as file:\n",
    "    file.write(cur_date)"
   ]
  },
  {
   "cell_type": "markdown",
   "metadata": {},
   "source": [
    "<b>--------------------------------------------------------------------------------------------------------------------------------------------"
   ]
  },
  {
   "cell_type": "markdown",
   "metadata": {
    "id": "uj1iKwb0Ic_2"
   },
   "source": [
    "#### 2. Read the text file today.txt into the string today_string.\n",
    "> Ans-"
   ]
  },
  {
   "cell_type": "code",
   "execution_count": 3,
   "metadata": {
    "colab": {
     "base_uri": "https://localhost:8080/",
     "height": 35
    },
    "executionInfo": {
     "elapsed": 13,
     "status": "ok",
     "timestamp": 1627041470753,
     "user": {
      "displayName": "Yuno Clover",
      "photoUrl": "",
      "userId": "14793961318254159012"
     },
     "user_tz": -330
    },
    "id": "qXCd1k-gIYiF",
    "outputId": "37ff38dd-29b4-4ecf-94f6-83476eb2c182"
   },
   "outputs": [
    {
     "data": {
      "text/plain": [
       "'2023-03-21'"
      ]
     },
     "execution_count": 3,
     "metadata": {},
     "output_type": "execute_result"
    }
   ],
   "source": [
    "with open('today.txt','r') as file:\n",
    "    today_string = file.read()\n",
    "today_string"
   ]
  },
  {
   "cell_type": "markdown",
   "metadata": {},
   "source": [
    "<b>--------------------------------------------------------------------------------------------------------------------------------------------"
   ]
  },
  {
   "cell_type": "markdown",
   "metadata": {
    "id": "LrIDHGFBIig7"
   },
   "source": [
    "#### 3. Parse the date from today_string.\n",
    "> Ans-"
   ]
  },
  {
   "cell_type": "code",
   "execution_count": 4,
   "metadata": {
    "colab": {
     "base_uri": "https://localhost:8080/"
    },
    "executionInfo": {
     "elapsed": 392,
     "status": "ok",
     "timestamp": 1627041473603,
     "user": {
      "displayName": "Yuno Clover",
      "photoUrl": "",
      "userId": "14793961318254159012"
     },
     "user_tz": -330
    },
    "id": "MuwBYzZFIfw7",
    "outputId": "063aa12f-3062-4447-d4c9-82df2d4f6d60"
   },
   "outputs": [
    {
     "data": {
      "text/plain": [
       "datetime.datetime(2023, 3, 21, 0, 0)"
      ]
     },
     "execution_count": 4,
     "metadata": {},
     "output_type": "execute_result"
    }
   ],
   "source": [
    "from datetime import datetime\n",
    "format = '%Y-%m-%d'\n",
    "datetime.strptime(today_string,format)"
   ]
  },
  {
   "cell_type": "markdown",
   "metadata": {},
   "source": [
    "<b>--------------------------------------------------------------------------------------------------------------------------------------------"
   ]
  },
  {
   "cell_type": "markdown",
   "metadata": {
    "id": "WxS5ql4HIns3"
   },
   "source": [
    "#### 4. List the files in your current directory\n",
    "> Ans-"
   ]
  },
  {
   "cell_type": "code",
   "execution_count": 5,
   "metadata": {
    "colab": {
     "base_uri": "https://localhost:8080/"
    },
    "executionInfo": {
     "elapsed": 412,
     "status": "ok",
     "timestamp": 1627041476634,
     "user": {
      "displayName": "Yuno Clover",
      "photoUrl": "",
      "userId": "14793961318254159012"
     },
     "user_tz": -330
    },
    "id": "CT1raJTeIk7J",
    "outputId": "4a592015-8e8e-4e72-f247-d5211b0a18ed"
   },
   "outputs": [
    {
     "data": {
      "text/plain": [
       "['.ipynb_checkpoints',\n",
       " 'books.csv',\n",
       " 'books.db',\n",
       " 'Python Basic Assignment 1.ipynb',\n",
       " 'Python Basic Assignment 10.ipynb',\n",
       " 'Python Basic Assignment 11.ipynb',\n",
       " 'Python Basic Assignment 12.ipynb',\n",
       " 'Python Basic Assignment 13.ipynb',\n",
       " 'Python Basic Assignment 14.ipynb',\n",
       " 'Python Basic Assignment 15.ipynb',\n",
       " 'Python Basic Assignment 16.ipynb',\n",
       " 'Python Basic Assignment 17.ipynb',\n",
       " 'Python Basic Assignment 18.ipynb',\n",
       " 'Python Basic Assignment 19.ipynb',\n",
       " 'Python Basic Assignment 2.ipynb',\n",
       " 'Python Basic Assignment 20.ipynb',\n",
       " 'Python Basic Assignment 21.ipynb',\n",
       " 'Python Basic Assignment 3.pdf',\n",
       " 'Python Basic Assignment 4.ipynb',\n",
       " 'Python Basic Assignment 5.ipynb',\n",
       " 'Python Basic Assignment 6.ipynb',\n",
       " 'Python Basic Assignment 7.ipynb',\n",
       " 'Python Basic Assignment 8.ipynb',\n",
       " 'Python Basic Assignment 9.ipynb',\n",
       " 'test.txt',\n",
       " 'today.txt']"
      ]
     },
     "execution_count": 5,
     "metadata": {},
     "output_type": "execute_result"
    }
   ],
   "source": [
    "import os\n",
    "os.listdir('.')"
   ]
  },
  {
   "cell_type": "markdown",
   "metadata": {},
   "source": [
    "<b>--------------------------------------------------------------------------------------------------------------------------------------------"
   ]
  },
  {
   "cell_type": "markdown",
   "metadata": {},
   "source": [
    "#### 5. Create a list of all of the files in your parent directory (minimum five files should be available).\n",
    "> Ans-"
   ]
  },
  {
   "cell_type": "code",
   "execution_count": 6,
   "metadata": {},
   "outputs": [
    {
     "data": {
      "text/plain": [
       "['.ipynb_checkpoints',\n",
       " 'books.csv',\n",
       " 'books.db',\n",
       " 'Python Basic Assignment 1.ipynb',\n",
       " 'Python Basic Assignment 10.ipynb',\n",
       " 'Python Basic Assignment 11.ipynb',\n",
       " 'Python Basic Assignment 12.ipynb',\n",
       " 'Python Basic Assignment 13.ipynb',\n",
       " 'Python Basic Assignment 14.ipynb',\n",
       " 'Python Basic Assignment 15.ipynb',\n",
       " 'Python Basic Assignment 16.ipynb',\n",
       " 'Python Basic Assignment 17.ipynb',\n",
       " 'Python Basic Assignment 18.ipynb',\n",
       " 'Python Basic Assignment 19.ipynb',\n",
       " 'Python Basic Assignment 2.ipynb',\n",
       " 'Python Basic Assignment 20.ipynb',\n",
       " 'Python Basic Assignment 21.ipynb',\n",
       " 'Python Basic Assignment 3.pdf',\n",
       " 'Python Basic Assignment 4.ipynb',\n",
       " 'Python Basic Assignment 5.ipynb',\n",
       " 'Python Basic Assignment 6.ipynb',\n",
       " 'Python Basic Assignment 7.ipynb',\n",
       " 'Python Basic Assignment 8.ipynb',\n",
       " 'Python Basic Assignment 9.ipynb',\n",
       " 'test.txt',\n",
       " 'today.txt']"
      ]
     },
     "execution_count": 6,
     "metadata": {},
     "output_type": "execute_result"
    }
   ],
   "source": [
    "import os \n",
    "os.listdir()"
   ]
  },
  {
   "cell_type": "markdown",
   "metadata": {},
   "source": [
    "<b>--------------------------------------------------------------------------------------------------------------------------------------------"
   ]
  },
  {
   "cell_type": "markdown",
   "metadata": {
    "id": "t_cu3DbGJ2e_"
   },
   "source": [
    "#### 6. Use multiprocessing to create three separate processes. Make each one wait a random number of seconds between one and five, print the current time, and then exit.\n",
    "> Ans-"
   ]
  },
  {
   "cell_type": "code",
   "execution_count": 7,
   "metadata": {
    "executionInfo": {
     "elapsed": 8,
     "status": "ok",
     "timestamp": 1627041478767,
     "user": {
      "displayName": "Yuno Clover",
      "photoUrl": "",
      "userId": "14793961318254159012"
     },
     "user_tz": -330
    },
    "id": "Gr2Lds7eJ8A7"
   },
   "outputs": [],
   "source": [
    "import multiprocessing\n",
    "\n",
    "def printsec(seconds):\n",
    "    from datetime import datetime\n",
    "    from time import sleep\n",
    "    sleep(seconds)\n",
    "    print('wait', seconds, 'seconds, time is', datetime.utcnow())\n",
    "    \n",
    "if __name__ == '__main__':\n",
    "    import random    \n",
    "    for n in range(3):\n",
    "        seconds = random.random()\n",
    "        proc = multiprocessing.Process(target=printsec, args=(seconds,))\n",
    "        proc.start()"
   ]
  },
  {
   "cell_type": "code",
   "execution_count": 8,
   "metadata": {
    "colab": {
     "base_uri": "https://localhost:8080/"
    },
    "executionInfo": {
     "elapsed": 1304,
     "status": "ok",
     "timestamp": 1627041481604,
     "user": {
      "displayName": "Yuno Clover",
      "photoUrl": "",
      "userId": "14793961318254159012"
     },
     "user_tz": -330
    },
    "id": "xH6iP_F5J-YN",
    "outputId": "a4004d40-121e-4d2a-e5a6-6b56a5e963e2"
   },
   "outputs": [
    {
     "ename": "SyntaxError",
     "evalue": "invalid syntax (3307587293.py, line 1)",
     "output_type": "error",
     "traceback": [
      "\u001b[1;36m  File \u001b[1;32m\"C:\\Users\\Admin\\AppData\\Local\\Temp\\ipykernel_32\\3307587293.py\"\u001b[1;36m, line \u001b[1;32m1\u001b[0m\n\u001b[1;33m    python abc.py\u001b[0m\n\u001b[1;37m           ^\u001b[0m\n\u001b[1;31mSyntaxError\u001b[0m\u001b[1;31m:\u001b[0m invalid syntax\n"
     ]
    }
   ],
   "source": [
    "python abc.py"
   ]
  },
  {
   "cell_type": "markdown",
   "metadata": {},
   "source": [
    "<b>--------------------------------------------------------------------------------------------------------------------------------------------"
   ]
  },
  {
   "cell_type": "markdown",
   "metadata": {
    "id": "3DQeVniENrtd"
   },
   "source": [
    "#### 7. Create a date object of your day of birth.\n",
    "> Ans-"
   ]
  },
  {
   "cell_type": "code",
   "execution_count": 9,
   "metadata": {
    "colab": {
     "base_uri": "https://localhost:8080/"
    },
    "executionInfo": {
     "elapsed": 8,
     "status": "ok",
     "timestamp": 1627041484025,
     "user": {
      "displayName": "Yuno Clover",
      "photoUrl": "",
      "userId": "14793961318254159012"
     },
     "user_tz": -330
    },
    "id": "z4QUpLFOKG_v",
    "outputId": "4681c045-6350-41c5-f8aa-d864ecdb084f"
   },
   "outputs": [
    {
     "data": {
      "text/plain": [
       "datetime.date(1998, 9, 9)"
      ]
     },
     "execution_count": 9,
     "metadata": {},
     "output_type": "execute_result"
    }
   ],
   "source": [
    "my_dob = date(1998,9,9)\n",
    "my_dob"
   ]
  },
  {
   "cell_type": "markdown",
   "metadata": {},
   "source": [
    "<b>--------------------------------------------------------------------------------------------------------------------------------------------"
   ]
  },
  {
   "cell_type": "markdown",
   "metadata": {},
   "source": [
    "#### 8. What day of the week was your day of birth?\n",
    "> Ans-"
   ]
  },
  {
   "cell_type": "code",
   "execution_count": 10,
   "metadata": {
    "colab": {
     "base_uri": "https://localhost:8080/"
    },
    "executionInfo": {
     "elapsed": 379,
     "status": "ok",
     "timestamp": 1627041487197,
     "user": {
      "displayName": "Yuno Clover",
      "photoUrl": "",
      "userId": "14793961318254159012"
     },
     "user_tz": -330
    },
    "id": "sne1pWldNyyI",
    "outputId": "e04c7f99-cb6b-4615-fa8e-a7ccce60b16d"
   },
   "outputs": [
    {
     "data": {
      "text/plain": [
       "2"
      ]
     },
     "execution_count": 10,
     "metadata": {},
     "output_type": "execute_result"
    }
   ],
   "source": [
    "my_dob.weekday()"
   ]
  },
  {
   "cell_type": "markdown",
   "metadata": {},
   "source": [
    "<b>--------------------------------------------------------------------------------------------------------------------------------------------"
   ]
  },
  {
   "cell_type": "markdown",
   "metadata": {
    "id": "ElayoapJOODf"
   },
   "source": [
    "#### 9. When will you be (or when were you) 10,000 days old?\n",
    "> Ans-"
   ]
  },
  {
   "cell_type": "code",
   "execution_count": 11,
   "metadata": {
    "colab": {
     "base_uri": "https://localhost:8080/"
    },
    "executionInfo": {
     "elapsed": 379,
     "status": "ok",
     "timestamp": 1627041490319,
     "user": {
      "displayName": "Yuno Clover",
      "photoUrl": "",
      "userId": "14793961318254159012"
     },
     "user_tz": -330
    },
    "id": "HzFn9wlsOR_v",
    "outputId": "bb5ca2b1-3da6-4852-a46b-db5ff5c7ad69"
   },
   "outputs": [
    {
     "data": {
      "text/plain": [
       "datetime.date(2026, 1, 25)"
      ]
     },
     "execution_count": 11,
     "metadata": {},
     "output_type": "execute_result"
    }
   ],
   "source": [
    "from datetime import timedelta\n",
    "day10000 = my_dob + timedelta(days=10000)\n",
    "day10000"
   ]
  },
  {
   "cell_type": "markdown",
   "metadata": {},
   "source": [
    "<b>--------------------------------------------------------------------------------------------------------------------------------------------"
   ]
  }
 ],
 "metadata": {
  "colab": {
   "authorship_tag": "ABX9TyPLIbtwncRvSb+gl4fLV2MA",
   "collapsed_sections": [],
   "name": "Python Basic 21.ipynb",
   "provenance": []
  },
  "kernelspec": {
   "display_name": "Python 3 (ipykernel)",
   "language": "python",
   "name": "python3"
  },
  "language_info": {
   "codemirror_mode": {
    "name": "ipython",
    "version": 3
   },
   "file_extension": ".py",
   "mimetype": "text/x-python",
   "name": "python",
   "nbconvert_exporter": "python",
   "pygments_lexer": "ipython3",
   "version": "3.9.13"
  }
 },
 "nbformat": 4,
 "nbformat_minor": 1
}
