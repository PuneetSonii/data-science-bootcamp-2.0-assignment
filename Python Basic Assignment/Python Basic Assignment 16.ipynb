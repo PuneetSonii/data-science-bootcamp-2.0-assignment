{
 "cells": [
  {
   "cell_type": "markdown",
   "metadata": {
    "id": "jAjNdzHmGel0"
   },
   "source": [
    "#### 1. Create a list called years_list, starting with the year of your birth, and each year thereafter until the year of your fifth birthday. For example, if you were born in 1980. the list would be years_list = [1980, 1981, 1982, 1983, 1984, 1985].\n",
    "\n",
    "> Ans-"
   ]
  },
  {
   "cell_type": "code",
   "execution_count": 1,
   "metadata": {
    "colab": {
     "base_uri": "https://localhost:8080/"
    },
    "executionInfo": {
     "elapsed": 402,
     "status": "ok",
     "timestamp": 1626871721415,
     "user": {
      "displayName": "Yuno Clover",
      "photoUrl": "",
      "userId": "14793961318254159012"
     },
     "user_tz": -330
    },
    "id": "Zhq5GJFKF_rc",
    "outputId": "2675ce54-2ec3-453c-ab38-6ddec7a2b05b"
   },
   "outputs": [
    {
     "data": {
      "text/plain": [
       "[1995, 1996, 1997, 1998, 1999, 2000]"
      ]
     },
     "execution_count": 1,
     "metadata": {},
     "output_type": "execute_result"
    }
   ],
   "source": [
    "years_list = [i for i in range(1995,1995+6)]\n",
    "years_list"
   ]
  },
  {
   "cell_type": "markdown",
   "metadata": {},
   "source": [
    "<b>--------------------------------------------------------------------------------------------------------------------------------------------"
   ]
  },
  {
   "cell_type": "markdown",
   "metadata": {
    "id": "0eqcwkamGnww"
   },
   "source": [
    "#### 2. In which year in years_list was your third birthday? Remember, you were 0 years of age for your first year."
   ]
  },
  {
   "cell_type": "code",
   "execution_count": 2,
   "metadata": {
    "colab": {
     "base_uri": "https://localhost:8080/"
    },
    "executionInfo": {
     "elapsed": 411,
     "status": "ok",
     "timestamp": 1626871782850,
     "user": {
      "displayName": "Yuno Clover",
      "photoUrl": "",
      "userId": "14793961318254159012"
     },
     "user_tz": -330
    },
    "id": "VdEramQxGkFR",
    "outputId": "ab9d4110-d469-4bcc-ebe0-d7065c3781db"
   },
   "outputs": [
    {
     "data": {
      "text/plain": [
       "1998"
      ]
     },
     "execution_count": 2,
     "metadata": {},
     "output_type": "execute_result"
    }
   ],
   "source": [
    "years_list[3]"
   ]
  },
  {
   "cell_type": "markdown",
   "metadata": {},
   "source": [
    "<b>--------------------------------------------------------------------------------------------------------------------------------------------"
   ]
  },
  {
   "cell_type": "markdown",
   "metadata": {
    "id": "wDX-PhdsHayl"
   },
   "source": [
    "#### 3. In the years list, which year were you the oldest?\n",
    "\n",
    "> Ans-"
   ]
  },
  {
   "cell_type": "code",
   "execution_count": 3,
   "metadata": {
    "colab": {
     "base_uri": "https://localhost:8080/"
    },
    "executionInfo": {
     "elapsed": 398,
     "status": "ok",
     "timestamp": 1626871820529,
     "user": {
      "displayName": "Yuno Clover",
      "photoUrl": "",
      "userId": "14793961318254159012"
     },
     "user_tz": -330
    },
    "id": "5p1CYrRsHVmI",
    "outputId": "25b6fad2-c425-4239-f03e-1a8cc2bc9749"
   },
   "outputs": [
    {
     "data": {
      "text/plain": [
       "2000"
      ]
     },
     "execution_count": 3,
     "metadata": {},
     "output_type": "execute_result"
    }
   ],
   "source": [
    "max(years_list)"
   ]
  },
  {
   "cell_type": "markdown",
   "metadata": {},
   "source": [
    "<b>--------------------------------------------------------------------------------------------------------------------------------------------"
   ]
  },
  {
   "cell_type": "markdown",
   "metadata": {
    "id": "Sdo_FSMPHib-"
   },
   "source": [
    "#### 4. Make a list called things with these three strings as elements: 'mozzarella', 'cinderella','salmonella'.\n",
    "> Ans-"
   ]
  },
  {
   "cell_type": "code",
   "execution_count": 4,
   "metadata": {
    "colab": {
     "base_uri": "https://localhost:8080/"
    },
    "executionInfo": {
     "elapsed": 516,
     "status": "ok",
     "timestamp": 1626871853139,
     "user": {
      "displayName": "Yuno Clover",
      "photoUrl": "",
      "userId": "14793961318254159012"
     },
     "user_tz": -330
    },
    "id": "GbG3uk9xHezx",
    "outputId": "ded57933-4734-48cb-fc79-0f4c11f6f486"
   },
   "outputs": [
    {
     "data": {
      "text/plain": [
       "['mozzarella', 'cinderella', 'salmonella']"
      ]
     },
     "execution_count": 4,
     "metadata": {},
     "output_type": "execute_result"
    }
   ],
   "source": [
    "things = list(['mozzarella', 'cinderella','salmonella'])\n",
    "things"
   ]
  },
  {
   "cell_type": "markdown",
   "metadata": {},
   "source": [
    "<b>--------------------------------------------------------------------------------------------------------------------------------------------"
   ]
  },
  {
   "cell_type": "markdown",
   "metadata": {
    "id": "xeju45wNHqTc"
   },
   "source": [
    "#### 5. Capitalize the element in things that refers to a person and then print the list. Did it change the element in the list?\n",
    "\n",
    "> Ans-"
   ]
  },
  {
   "cell_type": "code",
   "execution_count": 5,
   "metadata": {
    "colab": {
     "base_uri": "https://localhost:8080/"
    },
    "executionInfo": {
     "elapsed": 404,
     "status": "ok",
     "timestamp": 1626871915955,
     "user": {
      "displayName": "Yuno Clover",
      "photoUrl": "",
      "userId": "14793961318254159012"
     },
     "user_tz": -330
    },
    "id": "Y4HLzpBrHmvZ",
    "outputId": "ff58a260-3b04-4750-9e8b-b527fac6eeef"
   },
   "outputs": [
    {
     "name": "stdout",
     "output_type": "stream",
     "text": [
      "Mozzarella\n",
      "Cinderella\n",
      "Salmonella\n"
     ]
    },
    {
     "data": {
      "text/plain": [
       "['mozzarella', 'cinderella', 'salmonella']"
      ]
     },
     "execution_count": 5,
     "metadata": {},
     "output_type": "execute_result"
    }
   ],
   "source": [
    "for i in things:\n",
    "    print(i.capitalize())\n",
    "things\n",
    "#Capitalize() will not update the list original values."
   ]
  },
  {
   "cell_type": "markdown",
   "metadata": {},
   "source": [
    "<b>--------------------------------------------------------------------------------------------------------------------------------------------"
   ]
  },
  {
   "cell_type": "markdown",
   "metadata": {
    "id": "lbjpeEzGIMGu"
   },
   "source": [
    "#### 6. Make a surprise list with the elements \"Groucho\", \"Chico\", and \"Harpo\".\n",
    "\n",
    "> Ans-"
   ]
  },
  {
   "cell_type": "code",
   "execution_count": 6,
   "metadata": {
    "colab": {
     "base_uri": "https://localhost:8080/"
    },
    "executionInfo": {
     "elapsed": 375,
     "status": "ok",
     "timestamp": 1626872026707,
     "user": {
      "displayName": "Yuno Clover",
      "photoUrl": "",
      "userId": "14793961318254159012"
     },
     "user_tz": -330
    },
    "id": "yIVeTI4HHx1P",
    "outputId": "4527862a-a0e6-460a-c5a7-dbdfb676feaf"
   },
   "outputs": [
    {
     "data": {
      "text/plain": [
       "['Groucho', 'Chico', 'Harpo']"
      ]
     },
     "execution_count": 6,
     "metadata": {},
     "output_type": "execute_result"
    }
   ],
   "source": [
    "surprise_list = [\"Groucho\", \"Chico\", \"Harpo\"]\n",
    "surprise_list"
   ]
  },
  {
   "cell_type": "markdown",
   "metadata": {},
   "source": [
    "<b>--------------------------------------------------------------------------------------------------------------------------------------------"
   ]
  },
  {
   "cell_type": "markdown",
   "metadata": {
    "id": "IWP1g4VDIVVN"
   },
   "source": [
    "#### 7. Lowercase the last element of the surprise list, reverse it, and then capitalize it.\n",
    "> Ans-"
   ]
  },
  {
   "cell_type": "code",
   "execution_count": 7,
   "metadata": {
    "colab": {
     "base_uri": "https://localhost:8080/",
     "height": 35
    },
    "executionInfo": {
     "elapsed": 432,
     "status": "ok",
     "timestamp": 1626872066236,
     "user": {
      "displayName": "Yuno Clover",
      "photoUrl": "",
      "userId": "14793961318254159012"
     },
     "user_tz": -330
    },
    "id": "FgCm42dZIRFE",
    "outputId": "56c0d590-440a-4edc-cc58-c9d8678585bb"
   },
   "outputs": [
    {
     "data": {
      "text/plain": [
       "'harpo'"
      ]
     },
     "execution_count": 7,
     "metadata": {},
     "output_type": "execute_result"
    }
   ],
   "source": [
    "surprise_list[-1].lower()"
   ]
  },
  {
   "cell_type": "code",
   "execution_count": 8,
   "metadata": {
    "colab": {
     "base_uri": "https://localhost:8080/",
     "height": 35
    },
    "executionInfo": {
     "elapsed": 395,
     "status": "ok",
     "timestamp": 1626872075046,
     "user": {
      "displayName": "Yuno Clover",
      "photoUrl": "",
      "userId": "14793961318254159012"
     },
     "user_tz": -330
    },
    "id": "QtKsqTPUIayB",
    "outputId": "af91baa3-6ca4-4004-8981-aa193f285cf9"
   },
   "outputs": [
    {
     "data": {
      "text/plain": [
       "'opraH'"
      ]
     },
     "execution_count": 8,
     "metadata": {},
     "output_type": "execute_result"
    }
   ],
   "source": [
    "surprise_list[-1][::-1]"
   ]
  },
  {
   "cell_type": "code",
   "execution_count": 9,
   "metadata": {
    "colab": {
     "base_uri": "https://localhost:8080/",
     "height": 35
    },
    "executionInfo": {
     "elapsed": 377,
     "status": "ok",
     "timestamp": 1626872081749,
     "user": {
      "displayName": "Yuno Clover",
      "photoUrl": "",
      "userId": "14793961318254159012"
     },
     "user_tz": -330
    },
    "id": "zLtVi61fIc8P",
    "outputId": "6499821a-601f-4020-bc8e-c6b9125c6aa1"
   },
   "outputs": [
    {
     "data": {
      "text/plain": [
       "'OPRAH'"
      ]
     },
     "execution_count": 9,
     "metadata": {},
     "output_type": "execute_result"
    }
   ],
   "source": [
    "surprise_list[-1][::-1].upper()"
   ]
  },
  {
   "cell_type": "markdown",
   "metadata": {},
   "source": [
    "<b>--------------------------------------------------------------------------------------------------------------------------------------------"
   ]
  },
  {
   "cell_type": "markdown",
   "metadata": {
    "id": "BezWqvqzImHI"
   },
   "source": [
    "#### 8. Make an English-to-French dictionary called e2f and print it. Here are your starter words: dog is chien, cat is chat, and walrus is morse.\n",
    "> Ans-"
   ]
  },
  {
   "cell_type": "code",
   "execution_count": 10,
   "metadata": {
    "executionInfo": {
     "elapsed": 378,
     "status": "ok",
     "timestamp": 1626872123522,
     "user": {
      "displayName": "Yuno Clover",
      "photoUrl": "",
      "userId": "14793961318254159012"
     },
     "user_tz": -330
    },
    "id": "FE_HtjHyIeld"
   },
   "outputs": [],
   "source": [
    "e2f = {'dog':'chien','cat':'chat','walrus':'morse'}"
   ]
  },
  {
   "cell_type": "markdown",
   "metadata": {},
   "source": [
    "<b>--------------------------------------------------------------------------------------------------------------------------------------------"
   ]
  },
  {
   "cell_type": "markdown",
   "metadata": {
    "id": "kpjJLGN1Iqlj"
   },
   "source": [
    "#### 9. Write the French word for walrus in your three-word dictionary e2f.\n",
    "\n",
    "> Ans-"
   ]
  },
  {
   "cell_type": "code",
   "execution_count": 11,
   "metadata": {
    "colab": {
     "base_uri": "https://localhost:8080/",
     "height": 35
    },
    "executionInfo": {
     "elapsed": 377,
     "status": "ok",
     "timestamp": 1626872162380,
     "user": {
      "displayName": "Yuno Clover",
      "photoUrl": "",
      "userId": "14793961318254159012"
     },
     "user_tz": -330
    },
    "id": "19PKsQCuIox6",
    "outputId": "ed92ac61-2e0a-4bce-ea36-f41eac57967e"
   },
   "outputs": [
    {
     "data": {
      "text/plain": [
       "'morse'"
      ]
     },
     "execution_count": 11,
     "metadata": {},
     "output_type": "execute_result"
    }
   ],
   "source": [
    "e2f['walrus']"
   ]
  },
  {
   "cell_type": "markdown",
   "metadata": {},
   "source": [
    "<b>--------------------------------------------------------------------------------------------------------------------------------------------"
   ]
  },
  {
   "cell_type": "markdown",
   "metadata": {
    "id": "6N1CCtyUI2d9"
   },
   "source": [
    "#### 10. Make a French-to-English dictionary called f2e from e2f. Use the items method.\n",
    "\n",
    ">Ans-"
   ]
  },
  {
   "cell_type": "code",
   "execution_count": 12,
   "metadata": {
    "colab": {
     "base_uri": "https://localhost:8080/"
    },
    "executionInfo": {
     "elapsed": 379,
     "status": "ok",
     "timestamp": 1626872206904,
     "user": {
      "displayName": "Yuno Clover",
      "photoUrl": "",
      "userId": "14793961318254159012"
     },
     "user_tz": -330
    },
    "id": "Sha0hBhaIyRX",
    "outputId": "f412d936-a756-496d-c09b-98a94ad5e714"
   },
   "outputs": [
    {
     "data": {
      "text/plain": [
       "{'chien': 'dog', 'chat': 'cat', 'morse': 'walrus'}"
      ]
     },
     "execution_count": 12,
     "metadata": {},
     "output_type": "execute_result"
    }
   ],
   "source": [
    "f2e = dict((key,value) for value,key in e2f.items())\n",
    "f2e"
   ]
  },
  {
   "cell_type": "markdown",
   "metadata": {},
   "source": [
    "<b>--------------------------------------------------------------------------------------------------------------------------------------------"
   ]
  },
  {
   "cell_type": "markdown",
   "metadata": {
    "id": "INfl_kwDJBKQ"
   },
   "source": [
    "#### 11. Print the English version of the French word chien using f2e.\n",
    ">Ans-"
   ]
  },
  {
   "cell_type": "code",
   "execution_count": 13,
   "metadata": {
    "colab": {
     "base_uri": "https://localhost:8080/",
     "height": 35
    },
    "executionInfo": {
     "elapsed": 419,
     "status": "ok",
     "timestamp": 1626872236817,
     "user": {
      "displayName": "Yuno Clover",
      "photoUrl": "",
      "userId": "14793961318254159012"
     },
     "user_tz": -330
    },
    "id": "6ANCSl5hI9I9",
    "outputId": "3074cb13-1964-4d73-fa94-2cde6ab3baeb"
   },
   "outputs": [
    {
     "data": {
      "text/plain": [
       "'dog'"
      ]
     },
     "execution_count": 13,
     "metadata": {},
     "output_type": "execute_result"
    }
   ],
   "source": [
    "f2e['chien']"
   ]
  },
  {
   "cell_type": "markdown",
   "metadata": {},
   "source": [
    "<b>--------------------------------------------------------------------------------------------------------------------------------------------"
   ]
  },
  {
   "cell_type": "markdown",
   "metadata": {
    "id": "pOGSO_GgJH5z"
   },
   "source": [
    "#### 12. Make and print a set of English words from the keys in e2f.\n",
    "> Ans-"
   ]
  },
  {
   "cell_type": "code",
   "execution_count": 14,
   "metadata": {
    "colab": {
     "base_uri": "https://localhost:8080/"
    },
    "executionInfo": {
     "elapsed": 498,
     "status": "ok",
     "timestamp": 1626872267749,
     "user": {
      "displayName": "Yuno Clover",
      "photoUrl": "",
      "userId": "14793961318254159012"
     },
     "user_tz": -330
    },
    "id": "kMd5JNrMJEbb",
    "outputId": "fe39e339-91ce-4734-cd63-b6bd219516ce"
   },
   "outputs": [
    {
     "data": {
      "text/plain": [
       "dict_keys(['dog', 'cat', 'walrus'])"
      ]
     },
     "execution_count": 14,
     "metadata": {},
     "output_type": "execute_result"
    }
   ],
   "source": [
    "e2f.keys()"
   ]
  },
  {
   "cell_type": "markdown",
   "metadata": {},
   "source": [
    "<b>--------------------------------------------------------------------------------------------------------------------------------------------"
   ]
  },
  {
   "cell_type": "markdown",
   "metadata": {
    "id": "44u_mlHKJQZp"
   },
   "source": [
    "#### 13. Make a multilevel dictionary called life. Use these strings for the topmost keys: 'animals', 'plants', and 'other'. Make the 'animals' key refer to another dictionary with the keys 'cats', 'octopi', and 'emus'. Make the 'cats' key refer to a list of strings with the values 'Henri', 'Grumpy', and 'Lucy'. Make all the other keys refer to empty dictionaries.\n",
    "> Ans-"
   ]
  },
  {
   "cell_type": "code",
   "execution_count": 15,
   "metadata": {
    "colab": {
     "base_uri": "https://localhost:8080/"
    },
    "executionInfo": {
     "elapsed": 383,
     "status": "ok",
     "timestamp": 1626872306615,
     "user": {
      "displayName": "Yuno Clover",
      "photoUrl": "",
      "userId": "14793961318254159012"
     },
     "user_tz": -330
    },
    "id": "nI24oactJL94",
    "outputId": "c865acc1-8966-4ad1-ec33-797ed229c661"
   },
   "outputs": [
    {
     "data": {
      "text/plain": [
       "{'animals': {'cat': ['Henri', 'Grumpy', 'Lucy'], 'octopi': '', 'emus': ''},\n",
       " 'plants': '',\n",
       " 'other': ''}"
      ]
     },
     "execution_count": 15,
     "metadata": {},
     "output_type": "execute_result"
    }
   ],
   "source": [
    "life ={'animals':{'cat':['Henri', 'Grumpy', 'Lucy'], 'octopi':'', 'emus':''},\n",
    "       'plants' :'',\n",
    "       'other' :'' }\n",
    "life\n"
   ]
  },
  {
   "cell_type": "markdown",
   "metadata": {},
   "source": [
    "<b>--------------------------------------------------------------------------------------------------------------------------------------------"
   ]
  },
  {
   "cell_type": "markdown",
   "metadata": {
    "id": "Dfy2dQWUJYcA"
   },
   "source": [
    "#### 14. Print the top-level keys of life.\n",
    "> Ans-"
   ]
  },
  {
   "cell_type": "code",
   "execution_count": 16,
   "metadata": {
    "colab": {
     "base_uri": "https://localhost:8080/"
    },
    "executionInfo": {
     "elapsed": 648,
     "status": "ok",
     "timestamp": 1626872332657,
     "user": {
      "displayName": "Yuno Clover",
      "photoUrl": "",
      "userId": "14793961318254159012"
     },
     "user_tz": -330
    },
    "id": "ydxWv5ncJVfC",
    "outputId": "d90950d9-fd14-4666-c25a-da176a859d1a"
   },
   "outputs": [
    {
     "data": {
      "text/plain": [
       "dict_keys(['animals', 'plants', 'other'])"
      ]
     },
     "execution_count": 16,
     "metadata": {},
     "output_type": "execute_result"
    }
   ],
   "source": [
    "life.keys()"
   ]
  },
  {
   "cell_type": "markdown",
   "metadata": {},
   "source": [
    "<b>--------------------------------------------------------------------------------------------------------------------------------------------"
   ]
  },
  {
   "cell_type": "markdown",
   "metadata": {
    "id": "-di1miLWJd_P"
   },
   "source": [
    "#### 15. Print the keys for life['animals'].\n",
    "> Ans-"
   ]
  },
  {
   "cell_type": "code",
   "execution_count": 17,
   "metadata": {
    "colab": {
     "base_uri": "https://localhost:8080/"
    },
    "executionInfo": {
     "elapsed": 422,
     "status": "ok",
     "timestamp": 1626872353138,
     "user": {
      "displayName": "Yuno Clover",
      "photoUrl": "",
      "userId": "14793961318254159012"
     },
     "user_tz": -330
    },
    "id": "DmdqVu-hJbxg",
    "outputId": "b6fe3ce1-c887-41b2-e6a8-08bf2dbdf45c"
   },
   "outputs": [
    {
     "data": {
      "text/plain": [
       "dict_keys(['cat', 'octopi', 'emus'])"
      ]
     },
     "execution_count": 17,
     "metadata": {},
     "output_type": "execute_result"
    }
   ],
   "source": [
    "life['animals'].keys()"
   ]
  },
  {
   "cell_type": "markdown",
   "metadata": {},
   "source": [
    "<b>--------------------------------------------------------------------------------------------------------------------------------------------"
   ]
  },
  {
   "cell_type": "markdown",
   "metadata": {
    "id": "i5nfG3SSJhc5"
   },
   "source": [
    "#### 16. Print the values for life['animals']['cat']"
   ]
  },
  {
   "cell_type": "code",
   "execution_count": 18,
   "metadata": {
    "colab": {
     "base_uri": "https://localhost:8080/"
    },
    "executionInfo": {
     "elapsed": 410,
     "status": "ok",
     "timestamp": 1626872375917,
     "user": {
      "displayName": "Yuno Clover",
      "photoUrl": "",
      "userId": "14793961318254159012"
     },
     "user_tz": -330
    },
    "id": "mW1TAUs6Jg0d",
    "outputId": "e20b203e-2578-4ef8-ea72-4e668919c355"
   },
   "outputs": [
    {
     "data": {
      "text/plain": [
       "['Henri', 'Grumpy', 'Lucy']"
      ]
     },
     "execution_count": 18,
     "metadata": {},
     "output_type": "execute_result"
    }
   ],
   "source": [
    "life['animals']['cat']"
   ]
  },
  {
   "cell_type": "markdown",
   "metadata": {},
   "source": [
    "<b>--------------------------------------------------------------------------------------------------------------------------------------------"
   ]
  }
 ],
 "metadata": {
  "colab": {
   "authorship_tag": "ABX9TyN9LyoR2TtPeC5RdnUVBymj",
   "collapsed_sections": [],
   "name": "Python Basic 16.ipynb",
   "provenance": []
  },
  "kernelspec": {
   "display_name": "Python 3 (ipykernel)",
   "language": "python",
   "name": "python3"
  },
  "language_info": {
   "codemirror_mode": {
    "name": "ipython",
    "version": 3
   },
   "file_extension": ".py",
   "mimetype": "text/x-python",
   "name": "python",
   "nbconvert_exporter": "python",
   "pygments_lexer": "ipython3",
   "version": "3.9.13"
  }
 },
 "nbformat": 4,
 "nbformat_minor": 1
}
