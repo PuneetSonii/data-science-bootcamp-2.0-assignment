{
 "cells": [
  {
   "attachments": {},
   "cell_type": "markdown",
   "id": "b2aa57f2",
   "metadata": {},
   "source": [
    "# Machine Learning Assignment_08"
   ]
  },
  {
   "attachments": {},
   "cell_type": "markdown",
   "id": "19d4f3bd",
   "metadata": {},
   "source": [
    "#### 1. What exactly is a feature? Give an example to illustrate your point ?"
   ]
  },
  {
   "attachments": {},
   "cell_type": "markdown",
   "id": "797d1cdb",
   "metadata": {},
   "source": [
    ">Ans:Features are the basic building blocks of datasets. The quality of the features in your dataset has a major impact on the quality of the insights you will gain when you use that dataset for machine learning. \n",
    "\n",
    ">Additionally, different business problems within the same industry do not necessarily require the same features, which is why it is important to have a strong understanding of the business goals of your data science project."
   ]
  },
  {
   "attachments": {},
   "cell_type": "markdown",
   "id": "c89cb706",
   "metadata": {},
   "source": [
    "<b>--------------------------------------------------------------------------------------------------------------------------------------------------------------"
   ]
  },
  {
   "attachments": {},
   "cell_type": "markdown",
   "id": "941bc9d9",
   "metadata": {},
   "source": [
    "#### 2. What are the various circumstances in which feature construction is required ?"
   ]
  },
  {
   "attachments": {},
   "cell_type": "markdown",
   "id": "08f0d0e7",
   "metadata": {},
   "source": [
    ">Ans: The features in your data will directly influence the predictive models you use and the results you can achieve. Your results are dependent on many inter-dependent properties. You need great features that describe the structures inherent in your data. Better features means flexibility."
   ]
  },
  {
   "attachments": {},
   "cell_type": "markdown",
   "id": "c7ff979d",
   "metadata": {},
   "source": [
    "<b>--------------------------------------------------------------------------------------------------------------------------------------------------------------"
   ]
  },
  {
   "attachments": {},
   "cell_type": "markdown",
   "id": "3a53a7ce",
   "metadata": {},
   "source": [
    "#### 3. Describe how nominal variables are encoded ?"
   ]
  },
  {
   "attachments": {},
   "cell_type": "markdown",
   "id": "0b3b1d24",
   "metadata": {},
   "source": [
    ">Ans: Nominal data is made of discrete values with no numerical relationship between the different categories —  mean and median are meaningless. Animal species is one example. For example, pig is not higher than bird and lower than fish."
   ]
  },
  {
   "attachments": {},
   "cell_type": "markdown",
   "id": "d81519fe",
   "metadata": {},
   "source": [
    "<b>--------------------------------------------------------------------------------------------------------------------------------------------------------------"
   ]
  },
  {
   "attachments": {},
   "cell_type": "markdown",
   "id": "c4de4555",
   "metadata": {},
   "source": [
    "#### 4. Describe how numeric features are converted to categorical features ?"
   ]
  },
  {
   "attachments": {},
   "cell_type": "markdown",
   "id": "7a2ce760",
   "metadata": {},
   "source": [
    ">Ans: Converting categorical features into numeric features using domain knowledge. For example, we are given a list of countries and say we know the distance to these countries from India then we can replace it with distance from India. So, every country can be represented as its distance from India."
   ]
  },
  {
   "attachments": {},
   "cell_type": "markdown",
   "id": "2dab3667",
   "metadata": {},
   "source": [
    "<b>--------------------------------------------------------------------------------------------------------------------------------------------------------------"
   ]
  },
  {
   "attachments": {},
   "cell_type": "markdown",
   "id": "d6109820",
   "metadata": {},
   "source": [
    "#### 5. Describe the feature selection wrapper approach. State the advantages and disadvantages of this approach ?"
   ]
  },
  {
   "attachments": {},
   "cell_type": "markdown",
   "id": "72de65b0",
   "metadata": {},
   "source": [
    ">Ans: Wrapper methods measure the “usefulness” of features based on the classifier performance. In contrast, the filter methods pick up the intrinsic properties of the features (i.e., the “relevance” of the features) measured via univariate statistics instead of cross-validation performance.\n",
    "\n",
    ">The wrapper classification algorithms with joint dimensionality reduction and classification can also be used but these methods have high computation cost, lower discriminative power. Moreover, these methods depend on the efficient selection of classifiers for obtaining high accuracy"
   ]
  },
  {
   "attachments": {},
   "cell_type": "markdown",
   "id": "5e315c6c",
   "metadata": {},
   "source": [
    "<b>--------------------------------------------------------------------------------------------------------------------------------------------------------------"
   ]
  },
  {
   "attachments": {},
   "cell_type": "markdown",
   "id": "51584401",
   "metadata": {},
   "source": [
    "#### 6. When is a feature considered irrelevant? What can be said to quantify it ?"
   ]
  },
  {
   "attachments": {},
   "cell_type": "markdown",
   "id": "a2a92af6",
   "metadata": {},
   "source": [
    ">Ans: Features are considered relevant if they are either strongly or weakly relevant, and are considered irrelevant otherwise. \n",
    "Irrelevant features can never contribute to prediction accuracy, by definition. Also to quantify it we need to first check the list of features, There are three types of feature selection:\n",
    ">- **Wrapper methods** (forward, backward, and stepwise selection)\n",
    ">- **Filter methods** (ANOVA, Pearson correlation, variance thresholding)\n",
    ">- **Embedded methods** (Lasso, Ridge, Decision Tree)."
   ]
  },
  {
   "attachments": {},
   "cell_type": "markdown",
   "id": "8cc7c470",
   "metadata": {},
   "source": [
    "<b>--------------------------------------------------------------------------------------------------------------------------------------------------------------"
   ]
  },
  {
   "attachments": {},
   "cell_type": "markdown",
   "id": "3d21fc3f",
   "metadata": {},
   "source": [
    "#### 7. When is a function considered redundant? What criteria are used to identify features that could be redundant ?"
   ]
  },
  {
   "attachments": {},
   "cell_type": "markdown",
   "id": "8d0ce42e",
   "metadata": {},
   "source": [
    ">Ans:If two features `{X1, X2}` are highly correlated, then the two features become redundant features since they have same information in terms of correlation measure. In other words, the correlation measure provides statistical association between any given a pair of features. \n",
    "Minimum redundancy feature selection is an algorithm frequently used in a method to accurately identify characteristics of genes and phenotypes"
   ]
  },
  {
   "attachments": {},
   "cell_type": "markdown",
   "id": "dde6b638",
   "metadata": {},
   "source": [
    "<b>--------------------------------------------------------------------------------------------------------------------------------------------------------------"
   ]
  },
  {
   "attachments": {},
   "cell_type": "markdown",
   "id": "7bd4a123",
   "metadata": {},
   "source": [
    "#### 8. What are the various distance measurements used to determine feature similarity ?"
   ]
  },
  {
   "attachments": {},
   "cell_type": "markdown",
   "id": "ed81d5c4",
   "metadata": {},
   "source": [
    ">Ans: Four of the most commonly used distance measures in machine learning are as follows: \n",
    ">- Hamming Distance. \n",
    ">- Euclidean Distance\n",
    ">- Manhattan Distance."
   ]
  },
  {
   "attachments": {},
   "cell_type": "markdown",
   "id": "b4a36cb4",
   "metadata": {},
   "source": [
    "<b>--------------------------------------------------------------------------------------------------------------------------------------------------------------"
   ]
  },
  {
   "attachments": {},
   "cell_type": "markdown",
   "id": "e4d6004e",
   "metadata": {},
   "source": [
    "#### 9. State difference between Euclidean and Manhattan distances ?"
   ]
  },
  {
   "attachments": {},
   "cell_type": "markdown",
   "id": "a39944ba",
   "metadata": {},
   "source": [
    ">Ans: Euclidean & Hamming distances are used to measure similarity or dissimilarity between two sequences. Euclidean distance is extensively applied in analysis of convolutional codes and Trellis codes.\n",
    "Hamming distance is frequently encountered in the analysis of block codes."
   ]
  },
  {
   "attachments": {},
   "cell_type": "markdown",
   "id": "f228caec",
   "metadata": {},
   "source": [
    "<b>--------------------------------------------------------------------------------------------------------------------------------------------------------------"
   ]
  },
  {
   "attachments": {},
   "cell_type": "markdown",
   "id": "d8a5cfd2",
   "metadata": {},
   "source": [
    "#### 10. Distinguish between feature transformation and feature selection ?"
   ]
  },
  {
   "attachments": {},
   "cell_type": "markdown",
   "id": "722dfcff",
   "metadata": {},
   "source": [
    ">Ans: Feature selection is for filtering irrelevant or redundant features from your dataset. The key difference between feature selection and extraction is that feature selection keeps a subset of the original features while feature extraction creates brand new ones."
   ]
  },
  {
   "attachments": {},
   "cell_type": "markdown",
   "id": "93f19082",
   "metadata": {},
   "source": [
    "<b>--------------------------------------------------------------------------------------------------------------------------------------------------------------"
   ]
  },
  {
   "attachments": {},
   "cell_type": "markdown",
   "id": "e7b00387",
   "metadata": {},
   "source": [
    "#### 11. Make brief notes on any two of the following:\n",
    "\n",
    ">1.**`Singular value decomposition (SVD)`** is a matrix factorization method that generalizes the eigendecomposition of a square matrix (n x n) to any matrix (n x m) (source).\n",
    "If you don’t know what is eigendecomposition or eigenvectors/eigenvalues, you should google it or read this post. This post assumes that you are familiar with these concepts.\n",
    "SVD is similar to Principal Component Analysis (PCA), but more general. PCA assumes that input square matrix, SVD doesn’t have this assumption. General > `formula of SVD is:\n",
    "M=UΣVᵗ, where:\n",
    ">M-is original matrix we want to decompose\n",
    ">U-is left singular matrix (columns are left singular vectors). U columns contain eigenvectors of matrix MMᵗ\n",
    ">Σ-is a diagonal matrix containing singular (eigen)values\n",
    ">V-is right singular matrix (columns are right singular vectors). V columns contain eigenvectors of matrix MᵗM`.\n",
    "\n",
    ">2. **`Collection of features using a hybrid approach`**A hybrid feature selection method is proposed for classification in small sample size data sets. The filter step is based on instance learning taking advantage of the small sample size of data. A few candidate feature subsets are generated since their number corresponds to the number of instances.\n",
    "\n",
    ">3. **`The width of the silhouette`**The silhouette value is a measure of how similar an object is to its own cluster (cohesion) compared to other clusters (separation). The value of the silhouette ranges between [1, -1], where a high value indicates that the object is well matched to its own cluster and poorly matched to neighboring clusters.\n",
    "\n",
    "> 4. **`Receiver operating characteristic curve`**An ROC curve (receiver operating characteristic curve) is a graph showing the performance of a classification model at all classification thresholds. This curve plots two parameters:\n",
    ">-True Positive Rate\n",
    ">-False Positive Rate\n",
    ">-True Positive Rate (TPR) is a synonym for recall and is therefore defined as follows:\n",
    ">-False Positive Rate (FPR) is defined as follows:\n",
    "An ROC curve plots TPR vs. FPR at different classification thresholds. Lowering the classification threshold classifies more items as positive, thus increasing both False Positives and True Positives. The following figure shows a typical ROC curve"
   ]
  },
  {
   "attachments": {},
   "cell_type": "markdown",
   "id": "92067ad1",
   "metadata": {},
   "source": [
    "<b>--------------------------------------------------------------------------------------------------------------------------------------------------------------<b>--------------------------------------------------------------------------------------------------------------------------------------------------------------"
   ]
  }
 ],
 "metadata": {
  "kernelspec": {
   "display_name": "Python 3",
   "language": "python",
   "name": "python3"
  },
  "language_info": {
   "codemirror_mode": {
    "name": "ipython",
    "version": 3
   },
   "file_extension": ".py",
   "mimetype": "text/x-python",
   "name": "python",
   "nbconvert_exporter": "python",
   "pygments_lexer": "ipython3",
   "version": "3.8.8"
  }
 },
 "nbformat": 4,
 "nbformat_minor": 5
}
