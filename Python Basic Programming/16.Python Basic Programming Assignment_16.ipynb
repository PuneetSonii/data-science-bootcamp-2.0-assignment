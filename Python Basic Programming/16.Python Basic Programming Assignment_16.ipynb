{
 "cells": [
  {
   "cell_type": "markdown",
   "id": "c8648b63",
   "metadata": {},
   "source": [
    "#### 1.Write a function that stutters a word as if someone is struggling to read it. The first two letters are repeated twice with an ellipsis ... and space after each, and then the word is pronounced with a question mark ?\n",
    "**Examples:**\n",
    "`stutter(\"incredible\") ➞ \"in... in... incredible?\"`  \n",
    "`stutter(\"enthusiastic\") ➞ \"en... en... enthusiastic?\"`  \n",
    "`stutter(\"outstanding\") ➞ \"ou... ou... outstanding?\"`  \n",
    "\n",
    "Hint :- Assume all input is in lower case and at least two characters long."
   ]
  },
  {
   "cell_type": "code",
   "execution_count": 1,
   "id": "954d6265",
   "metadata": {},
   "outputs": [
    {
     "name": "stdout",
     "output_type": "stream",
     "text": [
      "incredible ➞ in... in... incredible?\n",
      "enthusiastic ➞ en... en... enthusiastic?\n",
      "outstanding ➞ ou... ou... outstanding?\n"
     ]
    }
   ],
   "source": [
    "def stutterWord():\n",
    "    in_string = input('Enter the Word :')\n",
    "    out_string = in_string.replace(in_string[0:2],((in_string[0:2]+'... ')*2)+ in_string[0:2])  +'?'\n",
    "    print(f'{in_string} ➞ {out_string}')\n",
    "\n",
    "for i in range(3):\n",
    "    stutterWord()"
   ]
  },
  {
   "attachments": {},
   "cell_type": "markdown",
   "id": "85d2ef7d",
   "metadata": {},
   "source": [
    "<b>--------------------------------------------------------------------------------------------------------------------------------------------------------------"
   ]
  },
  {
   "cell_type": "markdown",
   "id": "527426e7",
   "metadata": {},
   "source": [
    "#### 2..Create a function that takes an angle in radians and returns the corresponding angle in degrees rounded to one decimal place ?\n",
    "**Examples:**\n",
    "`radians_to_degrees(1) ➞ 57.3`  \n",
    "`radians_to_degrees(20) ➞ 1145.9`  \n",
    "`radians_to_degrees(50) ➞ 2864.8`  "
   ]
  },
  {
   "cell_type": "code",
   "execution_count": 2,
   "id": "a4573fe0",
   "metadata": {},
   "outputs": [
    {
     "name": "stdout",
     "output_type": "stream",
     "text": [
      "2 radian(s) ➞ 114.6 degrees\n",
      "5 radian(s) ➞ 286.5 degrees\n",
      "6 radian(s) ➞ 343.8 degrees\n"
     ]
    }
   ],
   "source": [
    "import math\n",
    "def radianToDegree():\n",
    "    in_num = int(input('Enter the angle in Radians: '))\n",
    "    out_num = (180/math.pi)*in_num\n",
    "    print(f'{in_num} radian(s) ➞ {out_num:.1f} degrees')\n",
    "\n",
    "for x in range(3):\n",
    "    radianToDegree()"
   ]
  },
  {
   "attachments": {},
   "cell_type": "markdown",
   "id": "ecdfafd4",
   "metadata": {},
   "source": [
    "<b>--------------------------------------------------------------------------------------------------------------------------------------------------------------"
   ]
  },
  {
   "cell_type": "markdown",
   "id": "9c75ed69",
   "metadata": {},
   "source": [
    "#### 3.In this challenge, establish if a given integer num is a Curzon number. If 1 plus 2 elevated to num is exactly divisible by 1 plus 2 multiplied by num, then num is a Curzon number. Given a non-negative integer num, implement a function that returns True if num is a Curzon number, or False otherwise. \n",
    "**Examples**: \n",
    "`is_curzon(5) ➞ True\n",
    "    # 2 ** 5 + 1 = 33\n",
    "    # 2 * 5 + 1 = 11\n",
    "    # 33 is a multiple of 11\n",
    "is_curzon(10) ➞ False\n",
    "    # 2 ** 10 + 1 = 1025\n",
    "    # 2 * 10 + 1 = 21\n",
    "    # 1025 is not a multiple of 21\n",
    "is_curzon(14) ➞ True\n",
    "    # 2 ** 14 + 1 = 16385\n",
    "    # 2 * 14 + 1 = 29\n",
    "    # 16385 is a multiple of 29`"
   ]
  },
  {
   "cell_type": "code",
   "execution_count": 3,
   "id": "3b057011",
   "metadata": {},
   "outputs": [
    {
     "name": "stdout",
     "output_type": "stream",
     "text": [
      "4 is Not a Curzon Number\n",
      "5 is a Curzon Number\n",
      "6 is a Curzon Number\n",
      "7 is Not a Curzon Number\n"
     ]
    }
   ],
   "source": [
    "def checkCurzon():\n",
    "    in_num = int(input(\"Enter a number: \"))\n",
    "    if (pow(2,in_num)+1)%((2*in_num)+1) == 0:\n",
    "        print(f'{in_num} is a Curzon Number')\n",
    "    else:\n",
    "        print(f'{in_num} is Not a Curzon Number')\n",
    "\n",
    "for x in range(4):\n",
    "    checkCurzon()"
   ]
  },
  {
   "attachments": {},
   "cell_type": "markdown",
   "id": "ce46efa3",
   "metadata": {},
   "source": [
    "<b>--------------------------------------------------------------------------------------------------------------------------------------------------------------"
   ]
  },
  {
   "cell_type": "markdown",
   "id": "1102933a",
   "metadata": {},
   "source": [
    "#### 4.Given the side length x find the area of a hexagon ?\n",
    "**Examples:**\n",
    "`area_of_hexagon(1) ➞ 2.6`  \n",
    "`area_of_hexagon(2) ➞ 10.4`  \n",
    "`area_of_hexagon(3) ➞ 23.4`  "
   ]
  },
  {
   "cell_type": "code",
   "execution_count": 4,
   "id": "2120ccc3",
   "metadata": {},
   "outputs": [
    {
     "name": "stdout",
     "output_type": "stream",
     "text": [
      "Area for Hexagon of sidelength 4 ➞ 41.6\n",
      "Area for Hexagon of sidelength 5 ➞ 65.0\n",
      "Area for Hexagon of sidelength 6 ➞ 93.5\n"
     ]
    }
   ],
   "source": [
    "import math\n",
    "def areaOfHexagon():\n",
    "    in_num = int(input('Enter the side length of a Hexagon: '))\n",
    "    out_num = ((3*math.sqrt(3))/2)*(pow(in_num,2))\n",
    "    print(f'Area for Hexagon of sidelength {in_num} ➞ {out_num:.1f}')\n",
    "    \n",
    "for x in range(3):\n",
    "    areaOfHexagon()"
   ]
  },
  {
   "attachments": {},
   "cell_type": "markdown",
   "id": "9f835497",
   "metadata": {},
   "source": [
    "<b>--------------------------------------------------------------------------------------------------------------------------------------------------------------"
   ]
  },
  {
   "cell_type": "markdown",
   "id": "730f48dc",
   "metadata": {},
   "source": [
    "#### 5.Create a function that returns a base-2 (binary) representation of a base-10 (decimal) string number. To convert is simple:\n",
    "((2) means base-2 and (10) means base-10)  \n",
    "`010101001(2) = 1 + 8 + 32 + 128.`    \n",
    "Going from right to left, the value of the most right bit is 1, now from that every bit to the left will be x2 the value, value of an 8 bit binary numbers are (256, 128, 64, 32, 16, 8, 4, 2, 1).  \n",
    "**Examples:**  \n",
    "`binary(1) ➞ \"1\"\n",
    "    # 1* 1 = 1\n",
    "binary(5) ➞ \"101\"\n",
    "    # 1 1 + 1 4 = 5\n",
    "binary(10) ➞ \"1010\"\n",
    "    # 1 2 + 1 8 = 10`"
   ]
  },
  {
   "cell_type": "code",
   "execution_count": 5,
   "id": "afcdb703",
   "metadata": {},
   "outputs": [
    {
     "name": "stdout",
     "output_type": "stream",
     "text": [
      "Binary of 1 ➞ 1\n",
      "Binary of 10101 ➞ 10011101110101\n",
      "Binary of 101 ➞ 1100101\n"
     ]
    }
   ],
   "source": [
    "def getBinary():\n",
    "    in_num = int(input(\"Enter a Number: \"))\n",
    "    out_num = bin(in_num).replace('0b','') \n",
    "    print(f'Binary of {in_num} ➞ {out_num}')\n",
    "\n",
    "for x in range(3):\n",
    "    getBinary()"
   ]
  },
  {
   "attachments": {},
   "cell_type": "markdown",
   "id": "df048925",
   "metadata": {},
   "source": [
    "<b>--------------------------------------------------------------------------------------------------------------------------------------------------------------<b>--------------------------------------------------------------------------------------------------------------------------------------------------------------"
   ]
  }
 ],
 "metadata": {
  "kernelspec": {
   "display_name": "Python 3",
   "language": "python",
   "name": "python3"
  },
  "language_info": {
   "codemirror_mode": {
    "name": "ipython",
    "version": 3
   },
   "file_extension": ".py",
   "mimetype": "text/x-python",
   "name": "python",
   "nbconvert_exporter": "python",
   "pygments_lexer": "ipython3",
   "version": "3.11.2"
  }
 },
 "nbformat": 4,
 "nbformat_minor": 5
}
