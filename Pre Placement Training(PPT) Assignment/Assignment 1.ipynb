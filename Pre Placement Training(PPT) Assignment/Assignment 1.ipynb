{
 "cells": [
  {
   "attachments": {},
   "cell_type": "markdown",
   "metadata": {},
   "source": [
    "# `Assignment-1`"
   ]
  },
  {
   "attachments": {},
   "cell_type": "markdown",
   "metadata": {},
   "source": [
    "**Q1.** Given an array of integers nums and an integer target, return indices of the two numbers such that they add up to target.\n",
    "\n",
    "You may assume that each input would have exactly one solution, and you may not use the same element twice.\n",
    "\n",
    "You can return the answer in any order.\n",
    "\n",
    "**Example:**\n",
    "Input: nums = [2,7,11,15], target = 9\n",
    "Output0 [0,1]\n",
    "\n",
    "**Explanation:** Because nums[0] + nums[1] == 9, we return [0, 1]"
   ]
  },
  {
   "cell_type": "code",
   "execution_count": 1,
   "metadata": {},
   "outputs": [
    {
     "name": "stdout",
     "output_type": "stream",
     "text": [
      "[0, 1]\n"
     ]
    }
   ],
   "source": [
    "def twoSum(nums, target):\n",
    "    # Create a dictionary to store the complement of each number\n",
    "    complement_map = {}\n",
    "\n",
    "    # Iterate through the array\n",
    "    for i, num in enumerate(nums):\n",
    "        # Check if the complement exists in the dictionary\n",
    "        if target - num in complement_map:\n",
    "            # Return the indices of the two numbers\n",
    "            return [complement_map[target - num], i]\n",
    "        \n",
    "        # If the complement doesn't exist, add the current number to the dictionary\n",
    "        complement_map[num] = i\n",
    "    \n",
    "    # If no solution is found, return an empty list\n",
    "    return []\n",
    "nums = [2, 7, 11, 15]\n",
    "target = 9\n",
    "result = twoSum(nums, target)\n",
    "print(result) "
   ]
  },
  {
   "attachments": {},
   "cell_type": "markdown",
   "metadata": {},
   "source": [
    "---------------------------------------------------------------------------------------------------------------------------"
   ]
  },
  {
   "attachments": {},
   "cell_type": "markdown",
   "metadata": {},
   "source": [
    "**Q2.** Given an integer array nums and an integer val, remove all occurrences of val in nums in-place. The order of the elements may be changed. Then return the number of elements in nums which are not equal to val.\n",
    "\n",
    "Consider the number of elements in nums which are not equal to val be k, to get accepted, you need to do the following things:\n",
    "\n",
    "- Change the array nums such that the first k elements of nums contain the elements which are not equal to val. The remaining elements of nums are not important as well as the size of nums.\n",
    "- Return k.\n",
    "\n",
    "**Example :**\n",
    "Input: nums = [3,2,2,3], val = 3\n",
    "Output: 2, nums = [2,2,_*,_*]\n",
    "\n",
    "**Explanation:** Your function should return k = 2, with the first two elements of nums being 2. It does not matter what you leave beyond the returned k (hence they are underscores)"
   ]
  },
  {
   "cell_type": "code",
   "execution_count": 2,
   "metadata": {},
   "outputs": [
    {
     "name": "stdout",
     "output_type": "stream",
     "text": [
      "2\n",
      "[2, 2, 2, 3]\n"
     ]
    }
   ],
   "source": [
    "def removeElement(nums, val):\n",
    "    # Initialize two pointers\n",
    "    i = 0  # slow pointer\n",
    "    j = 0  # fast pointer\n",
    "\n",
    "    # Iterate through the array\n",
    "    while j < len(nums):\n",
    "        # If the current element is not equal to val\n",
    "        if nums[j] != val:\n",
    "            # Move the current element to the slow pointer position\n",
    "            nums[i] = nums[j]\n",
    "            i += 1\n",
    "        \n",
    "        # Move the fast pointer\n",
    "        j += 1\n",
    "\n",
    "    # Return the number of elements not equal to val (k)\n",
    "    return i\n",
    "\n",
    "nums = [3, 2, 2, 3]\n",
    "val = 3\n",
    "k = removeElement(nums, val)\n",
    "print(k)      # Output: 2\n",
    "print(nums)   # Output: [2, 2, *, *]"
   ]
  },
  {
   "attachments": {},
   "cell_type": "markdown",
   "metadata": {},
   "source": [
    "---------------------------------------------------------------------------------------------------------------------------"
   ]
  },
  {
   "attachments": {},
   "cell_type": "markdown",
   "metadata": {},
   "source": [
    "**Q3.** Given a sorted array of distinct integers and a target value, return the index if the target is found. If not, return the index where it would be if it were inserted in order.\n",
    "\n",
    "You must write an algorithm with O(log n) runtime complexity.\n",
    "\n",
    "**Example 1:**\n",
    "Input: nums = [1,3,5,6], target = 5\n",
    "\n",
    "Output: 2"
   ]
  },
  {
   "cell_type": "code",
   "execution_count": 3,
   "metadata": {},
   "outputs": [
    {
     "name": "stdout",
     "output_type": "stream",
     "text": [
      "Index: 2\n"
     ]
    }
   ],
   "source": [
    "def searchInsert(nums, target):\n",
    "    left = 0\n",
    "    right = len(nums) - 1\n",
    "\n",
    "    while left <= right:\n",
    "        mid = (left + right) // 2\n",
    "        if nums[mid] == target:\n",
    "            return mid\n",
    "        elif nums[mid] < target:\n",
    "            left = mid + 1\n",
    "        else:\n",
    "            right = mid - 1\n",
    "\n",
    "    return left\n",
    "\n",
    "# Test the function\n",
    "nums = [1, 3, 5, 6]\n",
    "target = 5\n",
    "index = searchInsert(nums, target)\n",
    "print(\"Index:\", index)\n"
   ]
  },
  {
   "attachments": {},
   "cell_type": "markdown",
   "metadata": {},
   "source": [
    "---------------------------------------------------------------------------------------------------------------------------"
   ]
  },
  {
   "attachments": {},
   "cell_type": "markdown",
   "metadata": {},
   "source": [
    "**Q4.** You are given a large integer represented as an integer array digits, where each digits[i] is the ith digit of the integer. The digits are ordered from most significant to least significant in left-to-right order. The large integer does not contain any leading 0's.\n",
    "\n",
    "Increment the large integer by one and return the resulting array of digits.\n",
    "\n",
    "**Example 1:**\n",
    "Input: digits = [1,2,3]\n",
    "Output: [1,2,4]\n",
    "\n",
    "**Explanation:** The array represents the integer 123.\n",
    "\n",
    "Incrementing by one gives 123 + 1 = 124.\n",
    "Thus, the result should be [1,2,4]."
   ]
  },
  {
   "cell_type": "code",
   "execution_count": 4,
   "metadata": {},
   "outputs": [
    {
     "name": "stdout",
     "output_type": "stream",
     "text": [
      "Output: [1, 2, 4]\n"
     ]
    }
   ],
   "source": [
    "def plusOne(digits):\n",
    "    n = len(digits)\n",
    "\n",
    "    # Start from the rightmost digit\n",
    "    for i in range(n - 1, -1, -1):\n",
    "        if digits[i] < 9:\n",
    "            digits[i] += 1\n",
    "            return digits\n",
    "        else:\n",
    "            digits[i] = 0\n",
    "\n",
    "    # If all digits are 9, add a new digit\n",
    "    digits.insert(0, 1)\n",
    "    return digits\n",
    "\n",
    "# Test the function\n",
    "digits = [1, 2, 3]\n",
    "result = plusOne(digits)\n",
    "print(\"Output:\", result)\n"
   ]
  },
  {
   "attachments": {},
   "cell_type": "markdown",
   "metadata": {},
   "source": [
    "---------------------------------------------------------------------------------------------------------------------------"
   ]
  },
  {
   "attachments": {},
   "cell_type": "markdown",
   "metadata": {},
   "source": [
    "**Q5.** You are given two integer arrays nums1 and nums2, sorted in non-decreasing order, and two integers m and n, representing the number of elements in nums1 and nums2 respectively.\n",
    "\n",
    "Merge nums1 and nums2 into a single array sorted in non-decreasing order.\n",
    "\n",
    "The final sorted array should not be returned by the function, but instead be stored inside the array nums1. To accommodate this, nums1 has a length of m + n, where the first m elements denote the elements that should be merged, and the last n elements are set to 0 and should be ignored. nums2 has a length of n.\n",
    "\n",
    "**Example 1:**\n",
    "Input: nums1 = [1,2,3,0,0,0], m = 3, nums2 = [2,5,6], n = 3\n",
    "Output: [1,2,2,3,5,6]\n",
    "\n",
    "**Explanation:** The arrays we are merging are [1,2,3] and [2,5,6].\n",
    "The result of the merge is [1,2,2,3,5,6] with the underlined elements coming from nums1."
   ]
  },
  {
   "cell_type": "code",
   "execution_count": 5,
   "metadata": {},
   "outputs": [
    {
     "name": "stdout",
     "output_type": "stream",
     "text": [
      "Output: [1, 2, 2, 3, 5, 6]\n"
     ]
    }
   ],
   "source": [
    "def merge(nums1, m, nums2, n):\n",
    "    # Initialize pointers for nums1, nums2, and the merged array\n",
    "    p1 = m - 1\n",
    "    p2 = n - 1\n",
    "    p = m + n - 1\n",
    "\n",
    "    # Merge nums1 and nums2 starting from the largest elements\n",
    "    while p1 >= 0 and p2 >= 0:\n",
    "        if nums1[p1] > nums2[p2]:\n",
    "            nums1[p] = nums1[p1]\n",
    "            p1 -= 1\n",
    "        else:\n",
    "            nums1[p] = nums2[p2]\n",
    "            p2 -= 1\n",
    "        p -= 1\n",
    "\n",
    "    # If there are remaining elements in nums2, copy them to nums1\n",
    "    while p2 >= 0:\n",
    "        nums1[p] = nums2[p2]\n",
    "        p2 -= 1\n",
    "        p -= 1\n",
    "\n",
    "# Test the function\n",
    "nums1 = [1, 2, 3, 0, 0, 0]\n",
    "m = 3\n",
    "nums2 = [2, 5, 6]\n",
    "n = 3\n",
    "\n",
    "merge(nums1, m, nums2, n)\n",
    "print(\"Output:\", nums1)\n"
   ]
  },
  {
   "attachments": {},
   "cell_type": "markdown",
   "metadata": {},
   "source": [
    "---------------------------------------------------------------------------------------------------------------------------"
   ]
  },
  {
   "attachments": {},
   "cell_type": "markdown",
   "metadata": {},
   "source": [
    "**Q6.** Given an integer array nums, return true if any value appears at least twice in the array, and return false if every element is distinct.\n",
    "\n",
    "**Example 1:**\n",
    "Input: nums = [1,2,3,1]\n",
    "\n",
    "Output: true"
   ]
  },
  {
   "cell_type": "code",
   "execution_count": 6,
   "metadata": {},
   "outputs": [
    {
     "name": "stdout",
     "output_type": "stream",
     "text": [
      "Output: True\n"
     ]
    }
   ],
   "source": [
    "def containsDuplicate(nums):\n",
    "    seen = set()\n",
    "\n",
    "    for num in nums:\n",
    "        if num in seen:\n",
    "            return True\n",
    "        seen.add(num)\n",
    "\n",
    "    return False\n",
    "\n",
    "# Test the function\n",
    "nums = [1, 2, 3, 1]\n",
    "result = containsDuplicate(nums)\n",
    "print(\"Output:\", result)\n"
   ]
  },
  {
   "attachments": {},
   "cell_type": "markdown",
   "metadata": {},
   "source": [
    "---------------------------------------------------------------------------------------------------------------------------"
   ]
  },
  {
   "attachments": {},
   "cell_type": "markdown",
   "metadata": {},
   "source": [
    "**Q7.** Given an integer array nums, move all 0's to the end of it while maintaining the relative order of the nonzero elements.\n",
    "\n",
    "Note that you must do this in-place without making a copy of the array.\n",
    "\n",
    "**Example 1:**\n",
    "Input: nums = [0,1,0,3,12]\n",
    "Output: [1,3,12,0,0]"
   ]
  },
  {
   "cell_type": "code",
   "execution_count": 7,
   "metadata": {},
   "outputs": [
    {
     "name": "stdout",
     "output_type": "stream",
     "text": [
      "Output: [1, 3, 12, 0, 0]\n"
     ]
    }
   ],
   "source": [
    "def moveZeroes(nums):\n",
    "    n = len(nums)\n",
    "    left = 0\n",
    "\n",
    "    # Move all non-zero elements to the left\n",
    "    for i in range(n):\n",
    "        if nums[i] != 0:\n",
    "            nums[left] = nums[i]\n",
    "            left += 1\n",
    "\n",
    "    # Fill the remaining positions with zeros\n",
    "    while left < n:\n",
    "        nums[left] = 0\n",
    "        left += 1\n",
    "\n",
    "# Test the function\n",
    "nums = [0, 1, 0, 3, 12]\n",
    "moveZeroes(nums)\n",
    "print(\"Output:\", nums)\n"
   ]
  },
  {
   "attachments": {},
   "cell_type": "markdown",
   "metadata": {},
   "source": [
    "---------------------------------------------------------------------------------------------------------------------------"
   ]
  },
  {
   "attachments": {},
   "cell_type": "markdown",
   "metadata": {},
   "source": [
    "**Q8.** You have a set of integers s, which originally contains all the numbers from 1 to n. Unfortunately, due to some error, one of the numbers in s got duplicated to another number in the set, which results in repetition of one number and loss of another number.\n",
    "\n",
    "You are given an integer array nums representing the data status of this set after the error.\n",
    "\n",
    "Find the number that occurs twice and the number that is missing and return them in the form of an array.\n",
    "\n",
    "**Example 1:**\n",
    "Input: nums = [1,2,2,4]\n",
    "Output: [2,3]"
   ]
  },
  {
   "cell_type": "code",
   "execution_count": 8,
   "metadata": {},
   "outputs": [
    {
     "name": "stdout",
     "output_type": "stream",
     "text": [
      "Output: [2, 3]\n"
     ]
    }
   ],
   "source": [
    "def findErrorNums(nums):\n",
    "    n = len(nums)\n",
    "    num_set = set()\n",
    "    duplicate = -1\n",
    "    missing = -1\n",
    "\n",
    "    # Find the duplicate number\n",
    "    for num in nums:\n",
    "        if num in num_set:\n",
    "            duplicate = num\n",
    "        num_set.add(num)\n",
    "\n",
    "    # Find the missing number\n",
    "    for i in range(1, n + 1):\n",
    "        if i not in num_set:\n",
    "            missing = i\n",
    "            break\n",
    "\n",
    "    return [duplicate, missing]\n",
    "\n",
    "# Test the function\n",
    "nums = [1, 2, 2, 4]\n",
    "result = findErrorNums(nums)\n",
    "print(\"Output:\", result)\n"
   ]
  },
  {
   "attachments": {},
   "cell_type": "markdown",
   "metadata": {},
   "source": [
    "-----------------------------------------------------------------------------------------------------------------------------"
   ]
  },
  {
   "attachments": {},
   "cell_type": "markdown",
   "metadata": {},
   "source": [
    "---------------------------------------------------------------------------------------------------------------------------"
   ]
  }
 ],
 "metadata": {
  "kernelspec": {
   "display_name": "Python 3",
   "language": "python",
   "name": "python3"
  },
  "language_info": {
   "codemirror_mode": {
    "name": "ipython",
    "version": 3
   },
   "file_extension": ".py",
   "mimetype": "text/x-python",
   "name": "python",
   "nbconvert_exporter": "python",
   "pygments_lexer": "ipython3",
   "version": "3.11.3"
  },
  "orig_nbformat": 4
 },
 "nbformat": 4,
 "nbformat_minor": 2
}
