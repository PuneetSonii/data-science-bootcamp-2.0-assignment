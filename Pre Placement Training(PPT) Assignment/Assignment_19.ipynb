{
 "cells": [
  {
   "attachments": {},
   "cell_type": "markdown",
   "metadata": {},
   "source": [
    "## `Assignment 19`"
   ]
  },
  {
   "attachments": {},
   "cell_type": "markdown",
   "metadata": {},
   "source": [
    "1. **Merge k Sorted Lists**\n",
    "\n",
    "You are given an array of `k` linked-lists `lists`, each linked-list is sorted in ascending order.\n",
    "\n",
    "*Merge all the linked-lists into one sorted linked-list and return it.*\n",
    "\n",
    "**Example 1:**\n",
    "Input: lists = [[1,4,5],[1,3,4],[2,6]]\n",
    "Output: [1,1,2,3,4,4,5,6]\n",
    "Explanation: The linked-lists are:\n",
    "[\n",
    "  1->4->5,\n",
    "  1->3->4,\n",
    "  2->6\n",
    "]\n",
    "merging them into one sorted list:\n",
    "1->1->2->3->4->4->5->6\n"
   ]
  },
  {
   "cell_type": "code",
   "execution_count": 7,
   "metadata": {},
   "outputs": [
    {
     "name": "stdout",
     "output_type": "stream",
     "text": [
      "[1, 1, 2, 3, 4, 4, 5, 6]\n"
     ]
    }
   ],
   "source": [
    "import heapq\n",
    "\n",
    "def mergeKLists(lists):\n",
    "    # Create a min-heap\n",
    "    min_heap = []\n",
    "    \n",
    "    # Push the first element from each list into the min-heap\n",
    "    for lst in lists:\n",
    "        if lst:\n",
    "            heapq.heappush(min_heap, (lst[0], lst))\n",
    "    \n",
    "    # Create a dummy node\n",
    "    dummy = ListNode(0)\n",
    "    current = dummy\n",
    "    \n",
    "    # Merge the lists\n",
    "    while min_heap:\n",
    "        # Pop the list with the minimum value\n",
    "        val, lst = heapq.heappop(min_heap)\n",
    "        \n",
    "        # Append the minimum value to the result linked list\n",
    "        current.next = ListNode(val)\n",
    "        current = current.next\n",
    "        \n",
    "        # Move to the next element in the current list\n",
    "        if len(lst) > 1:\n",
    "            heapq.heappush(min_heap, (lst[1], lst[1:]))\n",
    "    \n",
    "    return dummy.next\n",
    "\n",
    "# Create the input lists\n",
    "list1 = [1, 4, 5]\n",
    "list2 = [1, 3, 4]\n",
    "list3 = [2, 6]\n",
    "\n",
    "# Merge the lists\n",
    "merged_list = mergeKLists([list1, list2, list3])\n",
    "\n",
    "# Print the merged list\n",
    "result = []\n",
    "while merged_list:\n",
    "    result.append(merged_list.val)\n",
    "    merged_list = merged_list.next\n",
    "\n",
    "print(result)  # Output: [1, 1, 2, 3, 4, 4, 5, 6]\n"
   ]
  },
  {
   "attachments": {},
   "cell_type": "markdown",
   "metadata": {},
   "source": [
    "Example 2:\n",
    "Input: lists = []\n",
    "Output: []\n"
   ]
  },
  {
   "cell_type": "code",
   "execution_count": 8,
   "metadata": {},
   "outputs": [
    {
     "name": "stdout",
     "output_type": "stream",
     "text": [
      "[]\n"
     ]
    }
   ],
   "source": [
    "# Create an empty input list\n",
    "lists = []\n",
    "\n",
    "# Merge the lists\n",
    "merged_list = mergeKLists(lists)\n",
    "\n",
    "# Print the merged list\n",
    "result = []\n",
    "while merged_list:\n",
    "    result.append(merged_list.val)\n",
    "    merged_list = merged_list.next\n",
    "\n",
    "print(result)  # Output: []\n"
   ]
  },
  {
   "attachments": {},
   "cell_type": "markdown",
   "metadata": {},
   "source": [
    "Example 3:\n",
    "Input: lists = [[]]\n",
    "Output: []\n"
   ]
  },
  {
   "cell_type": "code",
   "execution_count": 9,
   "metadata": {},
   "outputs": [
    {
     "name": "stdout",
     "output_type": "stream",
     "text": [
      "[]\n"
     ]
    }
   ],
   "source": [
    "# Create the input list with an empty sublist\n",
    "lists = [[]]\n",
    "\n",
    "# Merge the lists\n",
    "merged_list = mergeKLists(lists)\n",
    "\n",
    "# Print the merged list\n",
    "result = []\n",
    "while merged_list:\n",
    "    result.append(merged_list.val)\n",
    "    merged_list = merged_list.next\n",
    "\n",
    "print(result)  # Output: []\n"
   ]
  },
  {
   "attachments": {},
   "cell_type": "markdown",
   "metadata": {},
   "source": [
    "---------------------------------------------------------------------------------------------------------------------------"
   ]
  },
  {
   "attachments": {},
   "cell_type": "markdown",
   "metadata": {},
   "source": [
    "2. **Count of Smaller Numbers After Self**\n",
    "\n",
    "Given an integer array `nums`, return *an integer array* `counts` *where* `counts[i]` *is the number of smaller elements to the right of* `nums[i]`.\n",
    "\n",
    "**Example 1:**\n",
    "Input: nums = [5,2,6,1]\n",
    "Output: [2,1,1,0]\n",
    "Explanation:\n",
    "To the right of 5 there are2 smaller elements (2 and 1).\n",
    "To the right of 2 there is only1 smaller element (1).\n",
    "To the right of 6 there is1 smaller element (1).\n",
    "To the right of 1 there is0 smaller element.\n",
    "\n",
    "**Constraints:**\n",
    "\n",
    "- `1 <= nums.length <= 100000`\n",
    "- `-10000 <= nums[i] <= 10000`"
   ]
  },
  {
   "cell_type": "code",
   "execution_count": 18,
   "metadata": {},
   "outputs": [
    {
     "name": "stdout",
     "output_type": "stream",
     "text": [
      "[1, 1, 0, 0]\n"
     ]
    }
   ],
   "source": [
    "def countSmaller(nums):\n",
    "    def mergeCount(left, right):\n",
    "        i = j = 0\n",
    "        count = 0\n",
    "        merged = []\n",
    "\n",
    "        while i < len(left) and j < len(right):\n",
    "            if left[i][0] <= right[j][0]:\n",
    "                merged.append(left[i])\n",
    "                counts[left[i][1]] += count\n",
    "                i += 1\n",
    "            else:\n",
    "                merged.append(right[j])\n",
    "                count += 1\n",
    "                j += 1\n",
    "\n",
    "        merged.extend(left[i:])\n",
    "        merged.extend(right[j:])\n",
    "\n",
    "        return merged\n",
    "\n",
    "    def mergeSort(nums):\n",
    "        if len(nums) <= 1:\n",
    "            return nums\n",
    "\n",
    "        mid = len(nums) // 2\n",
    "        left = mergeSort(nums[:mid])\n",
    "        right = mergeSort(nums[mid:])\n",
    "\n",
    "        return mergeCount(left, right)\n",
    "\n",
    "    # Create a list of tuples (num, index) to track original indices after sorting\n",
    "    nums = [(nums[i], i) for i in range(len(nums))]\n",
    "    counts = [0] * len(nums)\n",
    "\n",
    "    # Perform merge sort on the list\n",
    "    mergeSort(nums)\n",
    "\n",
    "    return counts\n",
    "\n",
    "# Test case\n",
    "nums = [5, 2, 6, 1]\n",
    "result = countSmaller(nums)\n",
    "print(result)  \n"
   ]
  },
  {
   "attachments": {},
   "cell_type": "markdown",
   "metadata": {},
   "source": [
    "Example 2:\n",
    "Input: nums = [-1]\n",
    "Output: [0]\n"
   ]
  },
  {
   "cell_type": "code",
   "execution_count": 17,
   "metadata": {},
   "outputs": [
    {
     "name": "stdout",
     "output_type": "stream",
     "text": [
      "[0]\n"
     ]
    }
   ],
   "source": [
    "\n",
    "nums = [-1]\n",
    "result = countSmaller(nums)\n",
    "print(result)"
   ]
  },
  {
   "attachments": {},
   "cell_type": "markdown",
   "metadata": {},
   "source": [
    "Example 3:\n",
    "Input: nums = [-1,-1]\n",
    "Output: [0,0]\n"
   ]
  },
  {
   "cell_type": "code",
   "execution_count": 19,
   "metadata": {},
   "outputs": [
    {
     "name": "stdout",
     "output_type": "stream",
     "text": [
      "[0, 0]\n"
     ]
    }
   ],
   "source": [
    "nums = [-1,-1]\n",
    "result = countSmaller(nums)\n",
    "print(result)"
   ]
  },
  {
   "attachments": {},
   "cell_type": "markdown",
   "metadata": {},
   "source": [
    "---------------------------------------------------------------------------------------------------------------------------"
   ]
  },
  {
   "attachments": {},
   "cell_type": "markdown",
   "metadata": {},
   "source": [
    "3. **Sort an Array**\n",
    "\n",
    "Given an array of integers `nums`, sort the array in ascending order and return it.\n",
    "\n",
    "You must solve the problem **without using any built-in** functions in `O(nlog(n))` time complexity and with the smallest space complexity possible.\n",
    "\n",
    "**Example 1:**\n",
    "Input: nums = [5,2,3,1]\n",
    "Output: [1,2,3,5]\n",
    "Explanation: After sorting the array, the positions of some numbers are not changed (for example, 2 and 3), while the positions of other numbers are changed (for example, 1 and 5).\n"
   ]
  },
  {
   "cell_type": "code",
   "execution_count": 20,
   "metadata": {},
   "outputs": [
    {
     "name": "stdout",
     "output_type": "stream",
     "text": [
      "[1, 2, 3, 5]\n"
     ]
    }
   ],
   "source": [
    "def sortArray(nums):\n",
    "    def partition(nums, low, high):\n",
    "        pivot = nums[high]\n",
    "        i = low - 1\n",
    "\n",
    "        for j in range(low, high):\n",
    "            if nums[j] <= pivot:\n",
    "                i += 1\n",
    "                nums[i], nums[j] = nums[j], nums[i]\n",
    "\n",
    "        nums[i + 1], nums[high] = nums[high], nums[i + 1]\n",
    "        return i + 1\n",
    "\n",
    "    def quickSort(nums, low, high):\n",
    "        if low < high:\n",
    "            pi = partition(nums, low, high)\n",
    "            quickSort(nums, low, pi - 1)\n",
    "            quickSort(nums, pi + 1, high)\n",
    "\n",
    "    quickSort(nums, 0, len(nums) - 1)\n",
    "    return nums\n",
    "\n",
    "# Test case\n",
    "nums = [5, 2, 3, 1]\n",
    "result = sortArray(nums)\n",
    "print(result)  # Output: [1, 2, 3, 5]\n"
   ]
  },
  {
   "attachments": {},
   "cell_type": "markdown",
   "metadata": {},
   "source": [
    "Example 2:\n",
    "Input: nums = [5,1,1,2,0,0]\n",
    "Output: [0,0,1,1,2,5]\n",
    "Explanation: Note that the values of nums are not necessairly unique.\n"
   ]
  },
  {
   "cell_type": "code",
   "execution_count": 21,
   "metadata": {},
   "outputs": [
    {
     "name": "stdout",
     "output_type": "stream",
     "text": [
      "[0, 0, 1, 1, 2, 5]\n"
     ]
    }
   ],
   "source": [
    "nums = [5,1,1,2,0,0]\n",
    "result = sortArray(nums)\n",
    "print(result)  # Output: [1, 2, 3, 5]"
   ]
  },
  {
   "attachments": {},
   "cell_type": "markdown",
   "metadata": {},
   "source": [
    "---------------------------------------------------------------------------------------------------------------------------"
   ]
  },
  {
   "attachments": {},
   "cell_type": "markdown",
   "metadata": {},
   "source": [
    "4. **Move all zeroes to end of array**\n",
    "\n",
    "Given an array of random numbers, Push all the zero’s of a given array to the end of the array. For example, if the given arrays is {1, 9, 8, 4, 0, 0, 2, 7, 0, 6, 0}, it should be changed to {1, 9, 8, 4, 2, 7, 6, 0, 0, 0, 0}. The order of all other elements should be same. Expected time complexity is O(n) and extra space is O(1).\n",
    "\n",
    "**Example:**\n",
    "Input :  arr[] = {1, 2, 0, 4, 3, 0, 5, 0};\n",
    "Output : arr[] = {1, 2, 4, 3, 5, 0, 0, 0};\n",
    "\n",
    "Input : arr[]  = {1, 2, 0, 0, 0, 3, 6};\n",
    "Output : arr[] = {1, 2, 3, 6, 0, 0, 0};"
   ]
  },
  {
   "cell_type": "code",
   "execution_count": 23,
   "metadata": {},
   "outputs": [
    {
     "name": "stdout",
     "output_type": "stream",
     "text": [
      "[1, 2, 4, 3, 5, 0, 0, 0]\n",
      "[1, 2, 3, 6, 0, 0, 0]\n"
     ]
    }
   ],
   "source": [
    "def moveZeroesToEnd(arr):\n",
    "    n = len(arr)\n",
    "    count = 0\n",
    "\n",
    "    # Move non-zero elements to the beginning\n",
    "    for i in range(n):\n",
    "        if arr[i] != 0:\n",
    "            arr[count] = arr[i]\n",
    "            count += 1\n",
    "\n",
    "    # Set remaining elements to zero\n",
    "    while count < n:\n",
    "        arr[count] = 0\n",
    "        count += 1\n",
    "\n",
    "    return arr\n",
    "\n",
    "\n",
    "\n",
    "arr1 = [1, 2, 0, 4, 3, 0, 5, 0]\n",
    "print(moveZeroesToEnd(arr1))  # Output: [1, 2, 4, 3, 5, 0, 0, 0]\n",
    "\n",
    "arr2 = [1, 2, 0, 0, 0, 3, 6]\n",
    "print(moveZeroesToEnd(arr2))  # Output: [1, 2, 3, 6, 0, 0, 0]\n"
   ]
  },
  {
   "attachments": {},
   "cell_type": "markdown",
   "metadata": {},
   "source": [
    "---------------------------------------------------------------------------------------------------------------------------"
   ]
  },
  {
   "attachments": {},
   "cell_type": "markdown",
   "metadata": {},
   "source": [
    "5. **Rearrange array in alternating positive & negative items with O(1) extra space**\n",
    "\n",
    "Given an **array of positive** and **negative numbers**, arrange them in an **alternate** fashion such that every positive number is followed by a negative and vice-versa maintaining the **order of appearance**. The number of positive and negative numbers need not be equal. If there are more positive numbers they appear at the end of the array. If there are more negative numbers, they too appear at the end of the array.\n",
    "**Examples:**\n",
    "\n",
    "Input:  arr[] = {1, 2, 3, -4, -1, 4}\n",
    "Output: arr[] = {-4, 1, -1, 2, 3, 4}\n",
    "\n",
    "Input:  arr[] = {-5, -2, 5, 2, 4, 7, 1, 8, 0, -8}\n",
    "Output: arr[] = {-5, 5, -2, 2, -8, 4, 7, 1, 8, 0}\n"
   ]
  },
  {
   "cell_type": "code",
   "execution_count": 24,
   "metadata": {},
   "outputs": [
    {
     "name": "stdout",
     "output_type": "stream",
     "text": [
      "[1, -1, 3, -4, 2, 4]\n",
      "[2, -2, 5, -5, 4, 0, 1, 8, 7, -8]\n"
     ]
    }
   ],
   "source": [
    "def rearrangeAlternate(arr):\n",
    "    n = len(arr)\n",
    "    positive = 0\n",
    "    negative = 1\n",
    "\n",
    "    # Rearrange positive and negative numbers\n",
    "    while positive < n and negative < n:\n",
    "        # Find the next positive number at even index\n",
    "        while positive < n and arr[positive] > 0:\n",
    "            positive += 2\n",
    "\n",
    "        # Find the next negative number at odd index\n",
    "        while negative < n and arr[negative] < 0:\n",
    "            negative += 2\n",
    "\n",
    "        # Swap the positive and negative numbers\n",
    "        if positive < n and negative < n:\n",
    "            arr[positive], arr[negative] = arr[negative], arr[positive]\n",
    "\n",
    "    # Place remaining positive numbers at the end\n",
    "    while positive < n:\n",
    "        if arr[positive] > 0:\n",
    "            break\n",
    "        positive += 2\n",
    "\n",
    "    # Place remaining negative numbers at the end\n",
    "    while negative < n:\n",
    "        if arr[negative] < 0:\n",
    "            break\n",
    "        negative += 2\n",
    "\n",
    "    # Rearrange remaining positive and negative numbers\n",
    "    while positive < n and negative < n:\n",
    "        arr[positive], arr[negative] = arr[negative], arr[positive]\n",
    "        positive += 2\n",
    "        negative += 2\n",
    "\n",
    "    return arr\n",
    "\n",
    "arr1 = [1, 2, 3, -4, -1, 4]\n",
    "print(rearrangeAlternate(arr1))  \n",
    "arr2 = [-5, -2, 5, 2, 4, 7, 1, 8, 0, -8]\n",
    "print(rearrangeAlternate(arr2)) \n"
   ]
  },
  {
   "attachments": {},
   "cell_type": "markdown",
   "metadata": {},
   "source": [
    "---------------------------------------------------------------------------------------------------------------------------"
   ]
  },
  {
   "attachments": {},
   "cell_type": "markdown",
   "metadata": {},
   "source": [
    "**6. Merge two sorted arrays**\n",
    "\n",
    "Given two sorted arrays, the task is to merge them in a sorted manner.\n",
    "\n",
    "**Examples:**\n",
    "\n",
    "Input: arr1[] = { 1, 3, 4, 5}, arr2[] = {2, 4, 6, 8} \n",
    "Output: arr3[] = {1, 2, 3, 4, 4, 5, 6, 8}\n",
    "\n",
    "Input: arr1[] = { 5, 8, 9}, arr2[] = {4, 7, 8}\n",
    "Output: arr3[] = {4, 5, 7, 8, 8, 9}\n"
   ]
  },
  {
   "cell_type": "code",
   "execution_count": 25,
   "metadata": {},
   "outputs": [
    {
     "name": "stdout",
     "output_type": "stream",
     "text": [
      "[1, 2, 3, 4, 4, 5, 6, 8]\n",
      "[4, 5, 7, 8, 8, 9]\n"
     ]
    }
   ],
   "source": [
    "def mergeSortedArrays(arr1, arr2):\n",
    "    n1 = len(arr1)\n",
    "    n2 = len(arr2)\n",
    "    i = 0\n",
    "    j = 0\n",
    "    result = []\n",
    "\n",
    "    # Merge the two arrays into a single sorted array\n",
    "    while i < n1 and j < n2:\n",
    "        if arr1[i] <= arr2[j]:\n",
    "            result.append(arr1[i])\n",
    "            i += 1\n",
    "        else:\n",
    "            result.append(arr2[j])\n",
    "            j += 1\n",
    "\n",
    "    # Append remaining elements of arr1, if any\n",
    "    while i < n1:\n",
    "        result.append(arr1[i])\n",
    "        i += 1\n",
    "\n",
    "    # Append remaining elements of arr2, if any\n",
    "    while j < n2:\n",
    "        result.append(arr2[j])\n",
    "        j += 1\n",
    "\n",
    "    return result\n",
    "\n",
    "\n",
    "arr1 = [1, 3, 4, 5]\n",
    "arr2 = [2, 4, 6, 8]\n",
    "print(mergeSortedArrays(arr1, arr2))  \n",
    "\n",
    "arr3 = [5, 8, 9]\n",
    "arr4 = [4, 7, 8]\n",
    "print(mergeSortedArrays(arr3, arr4)) \n"
   ]
  },
  {
   "attachments": {},
   "cell_type": "markdown",
   "metadata": {},
   "source": [
    "---------------------------------------------------------------------------------------------------------------------------"
   ]
  },
  {
   "attachments": {},
   "cell_type": "markdown",
   "metadata": {},
   "source": [
    "7. **Intersection of Two Arrays**\n",
    "\n",
    "Given two integer arrays `nums1` and `nums2`, return *an array of their intersection*. Each element in the result must be **unique** and you may return the result in **any order**.\n",
    "\n",
    "**Example 1:**\n",
    "Input: nums1 = [1,2,2,1], nums2 = [2,2]\n",
    "Output: [2]\n",
    "\n",
    "**Constraints:**\n",
    "\n",
    "- `1 <= nums1.length, nums2.length <= 1000`\n",
    "- `0 <= nums1[i], nums2[i] <= 1000`"
   ]
  },
  {
   "cell_type": "code",
   "execution_count": 26,
   "metadata": {},
   "outputs": [
    {
     "name": "stdout",
     "output_type": "stream",
     "text": [
      "[2]\n"
     ]
    }
   ],
   "source": [
    "def intersection(nums1, nums2):\n",
    "    set1 = set(nums1)\n",
    "    set2 = set(nums2)\n",
    "    intersection = set1.intersection(set2)\n",
    "    return list(intersection)\n",
    "\n",
    "nums1 = [1, 2, 2, 1]\n",
    "nums2 = [2, 2]\n",
    "print(intersection(nums1, nums2))  # Output: [2]\n"
   ]
  },
  {
   "attachments": {},
   "cell_type": "markdown",
   "metadata": {},
   "source": [
    "Example 2:\n",
    "Input: nums1 = [4,9,5], nums2 = [9,4,9,8,4]\n",
    "Output: [9,4]\n",
    "Explanation: [4,9] is also accepted.\n"
   ]
  },
  {
   "cell_type": "code",
   "execution_count": 27,
   "metadata": {},
   "outputs": [
    {
     "name": "stdout",
     "output_type": "stream",
     "text": [
      "[9, 4]\n"
     ]
    }
   ],
   "source": [
    "nums1 = [4,9,5]\n",
    "nums2 = [9,4,9,8,4]\n",
    "print(intersection(nums1, nums2)) "
   ]
  },
  {
   "attachments": {},
   "cell_type": "markdown",
   "metadata": {},
   "source": [
    "---------------------------------------------------------------------------------------------------------------------------"
   ]
  },
  {
   "attachments": {},
   "cell_type": "markdown",
   "metadata": {},
   "source": [
    "8. **Intersection of Two Arrays II**\n",
    "\n",
    "Given two integer arrays `nums1` and `nums2`, return *an array of their intersection*. Each element in the result must appear as many times as it shows in both arrays and you may return the result in **any order**.\n",
    "\n",
    "**Example 1:**\n",
    "Input: nums1 = [1,2,2,1], nums2 = [2,2]\n",
    "Output: [2,2]\n",
    "\n",
    "**Constraints:**\n",
    "\n",
    "- `1 <= nums1.length, nums2.length <= 1000`\n",
    "- `0 <= nums1[i], nums2[i] <= 1000`"
   ]
  },
  {
   "cell_type": "code",
   "execution_count": 29,
   "metadata": {},
   "outputs": [
    {
     "name": "stdout",
     "output_type": "stream",
     "text": [
      "[2, 2]\n"
     ]
    }
   ],
   "source": [
    "def intersect(nums1, nums2):\n",
    "    counter = {}\n",
    "    for num in nums1:\n",
    "        counter[num] = counter.get(num, 0) + 1\n",
    "\n",
    "    intersection = []\n",
    "    for num in nums2:\n",
    "        if num in counter and counter[num] > 0:\n",
    "            intersection.append(num)\n",
    "            counter[num] -= 1\n",
    "\n",
    "    return intersection\n",
    "\n",
    "\n",
    "nums1 = [1, 2, 2, 1]\n",
    "nums2 = [2, 2]\n",
    "print(intersect(nums1, nums2))  # Output: [2, 2]\n"
   ]
  },
  {
   "attachments": {},
   "cell_type": "markdown",
   "metadata": {},
   "source": [
    "Example 2:\n",
    "Input: nums1 = [4,9,5], nums2 = [9,4,9,8,4]\n",
    "Output: [4,9]\n",
    "Explanation: [9,4] is also accepted.\n"
   ]
  },
  {
   "cell_type": "code",
   "execution_count": 30,
   "metadata": {},
   "outputs": [
    {
     "name": "stdout",
     "output_type": "stream",
     "text": [
      "[9, 4]\n"
     ]
    }
   ],
   "source": [
    "nums1 = [4,9,5]\n",
    "nums2 = [9,4,9,8,4]\n",
    "print(intersect(nums1, nums2))"
   ]
  },
  {
   "attachments": {},
   "cell_type": "markdown",
   "metadata": {},
   "source": [
    "---------------------------------------------------------------------------------------------------------------------------"
   ]
  },
  {
   "attachments": {},
   "cell_type": "markdown",
   "metadata": {},
   "source": [
    "---------------------------------------------------------------------------------------------------------------------------"
   ]
  }
 ],
 "metadata": {
  "kernelspec": {
   "display_name": "Python 3",
   "language": "python",
   "name": "python3"
  },
  "language_info": {
   "codemirror_mode": {
    "name": "ipython",
    "version": 3
   },
   "file_extension": ".py",
   "mimetype": "text/x-python",
   "name": "python",
   "nbconvert_exporter": "python",
   "pygments_lexer": "ipython3",
   "version": "3.11.3"
  },
  "orig_nbformat": 4
 },
 "nbformat": 4,
 "nbformat_minor": 2
}
