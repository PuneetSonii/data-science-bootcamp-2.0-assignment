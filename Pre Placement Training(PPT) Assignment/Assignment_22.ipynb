{
 "cells": [
  {
   "attachments": {},
   "cell_type": "markdown",
   "metadata": {},
   "source": [
    "## `Assignment 22`"
   ]
  },
  {
   "attachments": {},
   "cell_type": "markdown",
   "metadata": {},
   "source": [
    "Question-1:\n",
    "\n",
    "Given a Binary Tree (Bt), convert it to a Doubly Linked List(DLL). The left and right pointers in nodes are to be used as previous and next pointers respectively in converted DLL. The order of nodes in DLL must be the same as in Inorder for the given Binary Tree. The first node of Inorder traversal (leftmost node in BT) must be the head node of the DLL.\n",
    "\n",
    "Example:\n",
    "        10\n",
    "\n",
    "       /   \\\n",
    "\n",
    "     12      15\n",
    "\n",
    "   /   \\            \\\n",
    "\n",
    " 25      30     36\n",
    "\n",
    "The above tree should be in-place converted to following doubly linked list(DLL)\n",
    "25 ⇄ 12 ⇄ 30 ⇄ 10 ⇄ 36 ⇄ 15"
   ]
  },
  {
   "cell_type": "code",
   "execution_count": 1,
   "metadata": {},
   "outputs": [
    {
     "name": "stdout",
     "output_type": "stream",
     "text": [
      "36 ⇄ None\n"
     ]
    }
   ],
   "source": [
    "class TreeNode:\n",
    "    def __init__(self, value):\n",
    "        self.val = value\n",
    "        self.left = None\n",
    "        self.right = None\n",
    "\n",
    "def convertToDLL(root):\n",
    "    if root is None:\n",
    "        return None\n",
    "\n",
    "    # Stack to perform inorder traversal iteratively\n",
    "    stack = []\n",
    "    prev = None  # Track the previously visited node\n",
    "\n",
    "    # Initialize head and tail of the doubly linked list\n",
    "    head = None\n",
    "    tail = None\n",
    "\n",
    "    current = root\n",
    "\n",
    "    while current or stack:\n",
    "        # Reach the leftmost node of the current subtree\n",
    "        while current:\n",
    "            stack.append(current)\n",
    "            current = current.left\n",
    "\n",
    "        # Process the current node (top of stack)\n",
    "        current = stack.pop()\n",
    "\n",
    "        # Update the pointers\n",
    "        if prev:\n",
    "            prev.right = current\n",
    "            current.left = prev\n",
    "        else:\n",
    "            # Set the head of the doubly linked list\n",
    "            head = current\n",
    "\n",
    "        # Update the tail of the doubly linked list\n",
    "        tail = current\n",
    "\n",
    "        # Move to the right subtree\n",
    "        current = current.right\n",
    "\n",
    "    # Set the tail's next pointer to None\n",
    "    tail.right = None\n",
    "\n",
    "    return head\n",
    "\n",
    "def printDLL(head):\n",
    "    current = head\n",
    "    while current:\n",
    "        print(current.val, end=\" ⇄ \")\n",
    "        current = current.right\n",
    "    print(\"None\")\n",
    "\n",
    "# Test the function\n",
    "root = TreeNode(10)\n",
    "root.left = TreeNode(12)\n",
    "root.right = TreeNode(15)\n",
    "root.left.left = TreeNode(25)\n",
    "root.left.right = TreeNode(30)\n",
    "root.right.right = TreeNode(36)\n",
    "\n",
    "head = convertToDLL(root)\n",
    "printDLL(head)\n"
   ]
  },
  {
   "attachments": {},
   "cell_type": "markdown",
   "metadata": {},
   "source": [
    "---------------------------------------------------------------------------------------------------------------------------"
   ]
  },
  {
   "attachments": {},
   "cell_type": "markdown",
   "metadata": {},
   "source": [
    "Question-2:\n",
    "\n",
    "Given a binary tree, print all its root-to-leaf paths without using recursion. For example, consider the following Binary Tree.\n",
    "\n",
    "Input:\n",
    "6\n",
    "     /    \\\n",
    "    3      5\n",
    "  /   \\     \\\n",
    " 2     5     4\n",
    "     /   \\\n",
    "    7     4\n",
    "\n",
    "Output:\n",
    "\n",
    "There are 4 leaves, hence 4 root to leaf paths -\n",
    "  6->3->2\n",
    "  6->3->5->7\n",
    "  6->3->5->4\n",
    "  6->5>4"
   ]
  },
  {
   "cell_type": "code",
   "execution_count": 2,
   "metadata": {},
   "outputs": [
    {
     "name": "stdout",
     "output_type": "stream",
     "text": [
      "6->3->2\n",
      "6->3->5->7\n",
      "6->3->5->4\n",
      "6->5->4\n"
     ]
    }
   ],
   "source": [
    "class TreeNode:\n",
    "    def __init__(self, value):\n",
    "        self.val = value\n",
    "        self.left = None\n",
    "        self.right = None\n",
    "\n",
    "def printRootToLeafPaths(root):\n",
    "    if root is None:\n",
    "        return\n",
    "\n",
    "    stack = [(root, str(root.val))]\n",
    "\n",
    "    while stack:\n",
    "        node, path = stack.pop()\n",
    "\n",
    "        if node.left is None and node.right is None:\n",
    "            # Print the path when reaching a leaf node\n",
    "            print(path)\n",
    "        if node.right:\n",
    "            stack.append((node.right, path + \"->\" + str(node.right.val)))\n",
    "        if node.left:\n",
    "            stack.append((node.left, path + \"->\" + str(node.left.val)))\n",
    "\n",
    "# Test the function\n",
    "root = TreeNode(6)\n",
    "root.left = TreeNode(3)\n",
    "root.right = TreeNode(5)\n",
    "root.left.left = TreeNode(2)\n",
    "root.left.right = TreeNode(5)\n",
    "root.right.right = TreeNode(4)\n",
    "root.left.right.left = TreeNode(7)\n",
    "root.left.right.right = TreeNode(4)\n",
    "\n",
    "printRootToLeafPaths(root)\n"
   ]
  },
  {
   "attachments": {},
   "cell_type": "markdown",
   "metadata": {},
   "source": [
    "---------------------------------------------------------------------------------------------------------------------------"
   ]
  },
  {
   "attachments": {},
   "cell_type": "markdown",
   "metadata": {},
   "source": [
    "Question-3:\n",
    "\n",
    "Given Preorder, Inorder and Postorder traversals of some tree. Write a program to check if they all are of the same tree.\n",
    "\n",
    "**Examples:**\n",
    "\n",
    "Input : \n",
    "\n",
    "        Inorder -> 4 2 5 1 3\n",
    "        Preorder -> 1 2 4 5 3\n",
    "        Postorder -> 4 5 2 3 1\n",
    "Output : \n",
    "\n",
    "Yes\n",
    "Explanation : \n",
    "\n",
    "All of the above three traversals are of\n",
    "the same tree \n",
    "\n",
    "                           1\n",
    "                         /   \\\n",
    "                        2     3\n",
    "                      /   \\\n",
    "                     4     5\n",
    "\n",
    "Input : \n",
    "\n",
    "        Inorder -> 4 2 5 1 3\n",
    "        Preorder -> 1 5 4 2 3\n",
    "        Postorder -> 4 1 2 3 5\n",
    "Output : \n",
    "\n",
    "No"
   ]
  },
  {
   "cell_type": "code",
   "execution_count": 3,
   "metadata": {},
   "outputs": [
    {
     "name": "stdout",
     "output_type": "stream",
     "text": [
      "Yes\n"
     ]
    }
   ],
   "source": [
    "def isSameTree(inorder, preorder, postorder):\n",
    "    if len(inorder) == len(preorder) == len(postorder) == 0:\n",
    "        return True\n",
    "    if len(inorder) != len(preorder) != len(postorder):\n",
    "        return False\n",
    "\n",
    "    root = preorder[0]\n",
    "\n",
    "    if root != postorder[-1]:\n",
    "        return False\n",
    "\n",
    "    root_index = inorder.index(root)\n",
    "\n",
    "    left_inorder = inorder[:root_index]\n",
    "    right_inorder = inorder[root_index + 1:]\n",
    "\n",
    "    left_preorder = preorder[1:1 + len(left_inorder)]\n",
    "    right_preorder = preorder[1 + len(left_inorder):]\n",
    "\n",
    "    left_postorder = postorder[:len(left_inorder)]\n",
    "    right_postorder = postorder[len(left_inorder):-1]\n",
    "\n",
    "    return isSameTree(left_inorder, left_preorder, left_postorder) and isSameTree(right_inorder, right_preorder, right_postorder)\n",
    "\n",
    "# Test the function\n",
    "inorder = [4, 2, 5, 1, 3]\n",
    "preorder = [1, 2, 4, 5, 3]\n",
    "postorder = [4, 5, 2, 3, 1]\n",
    "\n",
    "if isSameTree(inorder, preorder, postorder):\n",
    "    print(\"Yes\")\n",
    "else:\n",
    "    print(\"No\")\n"
   ]
  },
  {
   "attachments": {},
   "cell_type": "markdown",
   "metadata": {},
   "source": [
    "---------------------------------------------------------------------------------------------------------------------------"
   ]
  },
  {
   "attachments": {},
   "cell_type": "markdown",
   "metadata": {},
   "source": [
    "---------------------------------------------------------------------------------------------------------------------------"
   ]
  }
 ],
 "metadata": {
  "kernelspec": {
   "display_name": "Python 3",
   "language": "python",
   "name": "python3"
  },
  "language_info": {
   "codemirror_mode": {
    "name": "ipython",
    "version": 3
   },
   "file_extension": ".py",
   "mimetype": "text/x-python",
   "name": "python",
   "nbconvert_exporter": "python",
   "pygments_lexer": "ipython3",
   "version": "3.11.3"
  },
  "orig_nbformat": 4
 },
 "nbformat": 4,
 "nbformat_minor": 2
}
